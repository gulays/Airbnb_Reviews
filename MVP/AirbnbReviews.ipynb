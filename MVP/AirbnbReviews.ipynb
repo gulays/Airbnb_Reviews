{
 "cells": [
  {
   "cell_type": "code",
   "execution_count": 1,
   "id": "c5e14072",
   "metadata": {},
   "outputs": [],
   "source": [
    "import gzip\n"
   ]
  },
  {
   "cell_type": "code",
   "execution_count": 256,
   "id": "d371a2b2",
   "metadata": {},
   "outputs": [
    {
     "name": "stderr",
     "output_type": "stream",
     "text": [
      "[nltk_data] Downloading package wordnet to\n",
      "[nltk_data]     C:\\Users\\12157\\AppData\\Roaming\\nltk_data...\n",
      "[nltk_data]   Package wordnet is already up-to-date!\n",
      "[nltk_data] Downloading package averaged_perceptron_tagger to\n",
      "[nltk_data]     C:\\Users\\12157\\AppData\\Roaming\\nltk_data...\n",
      "[nltk_data]   Package averaged_perceptron_tagger is already up-to-\n",
      "[nltk_data]       date!\n",
      "[nltk_data] Downloading package punkt to\n",
      "[nltk_data]     C:\\Users\\12157\\AppData\\Roaming\\nltk_data...\n",
      "[nltk_data]   Package punkt is already up-to-date!\n",
      "[nltk_data] Downloading package vader_lexicon to\n",
      "[nltk_data]     C:\\Users\\12157\\AppData\\Roaming\\nltk_data...\n"
     ]
    }
   ],
   "source": [
    "\n",
    "import pandas as pd\n",
    "import numpy as np\n",
    "\n",
    "import nltk\n",
    "nltk.download('wordnet')\n",
    "nltk.download('averaged_perceptron_tagger')\n",
    "nltk.download('punkt')\n",
    "nltk.download('vader_lexicon')\n",
    "from nltk.stem import WordNetLemmatizer\n",
    "from nltk.tokenize import word_tokenize, sent_tokenize, RegexpTokenizer, MWETokenizer\n",
    "from nltk.util import ngrams\n",
    "from textblob import TextBlob, Word\n",
    "from nltk.stem.lancaster import LancasterStemmer\n",
    "from nltk.stem import WordNetLemmatizer\n",
    "from nltk.tag import pos_tag\n",
    "from nltk.chunk import ne_chunk\n",
    "from nltk.corpus import stopwords, wordnet, words\n",
    "\n",
    "from sklearn.feature_extraction import text\n",
    "import pickle\n",
    "import scipy.sparse\n",
    "import re\n",
    "import string\n",
    "from itertools import cycle\n",
    "\n",
    "from langdetect import detect\n",
    "\n",
    "\n",
    "from sklearn.preprocessing import scale, StandardScaler\n",
    "from sklearn.feature_extraction.text import CountVectorizer, TfidfVectorizer, ENGLISH_STOP_WORDS\n",
    "from sklearn.decomposition import PCA, TruncatedSVD, NMF,LatentDirichletAllocation\n",
    "from sklearn.cluster import KMeans\n",
    "\n",
    "from wordcloud import WordCloud\n",
    "import matplotlib.pyplot as plt\n",
    "\n"
   ]
  },
  {
   "cell_type": "code",
   "execution_count": 3,
   "id": "2571c468",
   "metadata": {},
   "outputs": [
    {
     "data": {
      "text/html": [
       "<div>\n",
       "<style scoped>\n",
       "    .dataframe tbody tr th:only-of-type {\n",
       "        vertical-align: middle;\n",
       "    }\n",
       "\n",
       "    .dataframe tbody tr th {\n",
       "        vertical-align: top;\n",
       "    }\n",
       "\n",
       "    .dataframe thead th {\n",
       "        text-align: right;\n",
       "    }\n",
       "</style>\n",
       "<table border=\"1\" class=\"dataframe\">\n",
       "  <thead>\n",
       "    <tr style=\"text-align: right;\">\n",
       "      <th></th>\n",
       "      <th>listing_id</th>\n",
       "      <th>id</th>\n",
       "      <th>date</th>\n",
       "      <th>reviewer_id</th>\n",
       "      <th>reviewer_name</th>\n",
       "      <th>comments</th>\n",
       "    </tr>\n",
       "  </thead>\n",
       "  <tbody>\n",
       "    <tr>\n",
       "      <th>0</th>\n",
       "      <td>2595</td>\n",
       "      <td>17857</td>\n",
       "      <td>2009-11-21</td>\n",
       "      <td>50679</td>\n",
       "      <td>Jean</td>\n",
       "      <td>Notre séjour de trois nuits.\\r&lt;br/&gt;Nous avons ...</td>\n",
       "    </tr>\n",
       "    <tr>\n",
       "      <th>1</th>\n",
       "      <td>2595</td>\n",
       "      <td>19176</td>\n",
       "      <td>2009-12-05</td>\n",
       "      <td>53267</td>\n",
       "      <td>Cate</td>\n",
       "      <td>Great experience.</td>\n",
       "    </tr>\n",
       "    <tr>\n",
       "      <th>2</th>\n",
       "      <td>2595</td>\n",
       "      <td>19760</td>\n",
       "      <td>2009-12-10</td>\n",
       "      <td>38960</td>\n",
       "      <td>Anita</td>\n",
       "      <td>I've stayed with my friend at the Midtown Cast...</td>\n",
       "    </tr>\n",
       "    <tr>\n",
       "      <th>3</th>\n",
       "      <td>2595</td>\n",
       "      <td>34320</td>\n",
       "      <td>2010-04-09</td>\n",
       "      <td>71130</td>\n",
       "      <td>Kai-Uwe</td>\n",
       "      <td>We've been staying here for about 9 nights, en...</td>\n",
       "    </tr>\n",
       "    <tr>\n",
       "      <th>4</th>\n",
       "      <td>2595</td>\n",
       "      <td>46312</td>\n",
       "      <td>2010-05-25</td>\n",
       "      <td>117113</td>\n",
       "      <td>Alicia</td>\n",
       "      <td>We had a wonderful stay at Jennifer's charming...</td>\n",
       "    </tr>\n",
       "  </tbody>\n",
       "</table>\n",
       "</div>"
      ],
      "text/plain": [
       "   listing_id     id        date  reviewer_id reviewer_name  \\\n",
       "0        2595  17857  2009-11-21        50679          Jean   \n",
       "1        2595  19176  2009-12-05        53267          Cate   \n",
       "2        2595  19760  2009-12-10        38960         Anita   \n",
       "3        2595  34320  2010-04-09        71130       Kai-Uwe   \n",
       "4        2595  46312  2010-05-25       117113        Alicia   \n",
       "\n",
       "                                            comments  \n",
       "0  Notre séjour de trois nuits.\\r<br/>Nous avons ...  \n",
       "1                                  Great experience.  \n",
       "2  I've stayed with my friend at the Midtown Cast...  \n",
       "3  We've been staying here for about 9 nights, en...  \n",
       "4  We had a wonderful stay at Jennifer's charming...  "
      ]
     },
     "execution_count": 3,
     "metadata": {},
     "output_type": "execute_result"
    }
   ],
   "source": [
    "with gzip.open('./METIS/reviewsNY.csv.gz') as f:\n",
    "\n",
    "    reviews_NY = pd.read_csv(f)\n",
    "\n",
    "reviews_NY.head()"
   ]
  },
  {
   "cell_type": "code",
   "execution_count": 4,
   "id": "fc6e8cdf",
   "metadata": {},
   "outputs": [
    {
     "data": {
      "text/plain": [
       "(848725, 6)"
      ]
     },
     "execution_count": 4,
     "metadata": {},
     "output_type": "execute_result"
    }
   ],
   "source": [
    "reviews_NY.shape"
   ]
  },
  {
   "cell_type": "code",
   "execution_count": null,
   "id": "e00270df",
   "metadata": {},
   "outputs": [],
   "source": [
    "reviews_NY.listing_id.nunique()"
   ]
  },
  {
   "cell_type": "code",
   "execution_count": null,
   "id": "fb1ebca9",
   "metadata": {},
   "outputs": [],
   "source": [
    "reviews_NY.reviewer_id.nunique()"
   ]
  },
  {
   "cell_type": "code",
   "execution_count": null,
   "id": "9edf7745",
   "metadata": {},
   "outputs": [],
   "source": [
    "reviews_NY.date.min()"
   ]
  },
  {
   "cell_type": "code",
   "execution_count": null,
   "id": "41cae330",
   "metadata": {},
   "outputs": [],
   "source": [
    "reviews_NY.date.max()"
   ]
  },
  {
   "cell_type": "code",
   "execution_count": null,
   "id": "9510fd94",
   "metadata": {},
   "outputs": [],
   "source": [
    "reviews_NY.isnull().sum()"
   ]
  },
  {
   "cell_type": "code",
   "execution_count": 5,
   "id": "350d682c",
   "metadata": {},
   "outputs": [],
   "source": [
    "reviews_NY.dropna(subset=['comments'], inplace =True)"
   ]
  },
  {
   "cell_type": "code",
   "execution_count": null,
   "id": "f5d05224",
   "metadata": {},
   "outputs": [],
   "source": [
    "def detect_lang(text):\n",
    "    return detect(text)\n",
    "\n",
    "\n",
    "#reviews_NY[\"language\"] = reviews_NY['comments'].apply(detect_lang)\n",
    "#reviews_NY[\"language\"] =reviews_NY['comments'].map(lambda x: detect_lang(x))"
   ]
  },
  {
   "cell_type": "code",
   "execution_count": null,
   "id": "2dc3138a",
   "metadata": {},
   "outputs": [],
   "source": [
    "#from textblob import TextBlob\n",
    "#reviews_NY['language'] = reviews_NY['comments'].apply(lambda x: TextBlob(x).detect_language())"
   ]
  },
  {
   "cell_type": "code",
   "execution_count": 6,
   "id": "f6e9d0d5",
   "metadata": {},
   "outputs": [],
   "source": [
    "def detect_en(text):\n",
    "    try:\n",
    "        return detect(text) == 'en'\n",
    "    except:\n",
    "        return False\n",
    "\n",
    "#reviews_NY = reviews_NY[reviews_NY['comments'].apply(detect_en)]\n"
   ]
  },
  {
   "cell_type": "code",
   "execution_count": 50,
   "id": "a8bd302b",
   "metadata": {},
   "outputs": [],
   "source": [
    "# Sample subset of review data set \n",
    "reviews_sml = reviews_NY.sample(n=50000, random_state = 42)\n",
    "\n"
   ]
  },
  {
   "cell_type": "code",
   "execution_count": 51,
   "id": "0915e609",
   "metadata": {},
   "outputs": [],
   "source": [
    "reviews_sml = reviews_sml[reviews_sml['comments'].apply(detect_en)]"
   ]
  },
  {
   "cell_type": "code",
   "execution_count": 52,
   "id": "61021ad1",
   "metadata": {},
   "outputs": [
    {
     "data": {
      "text/plain": [
       "(44519, 6)"
      ]
     },
     "execution_count": 52,
     "metadata": {},
     "output_type": "execute_result"
    }
   ],
   "source": [
    "reviews_sml.shape"
   ]
  },
  {
   "cell_type": "code",
   "execution_count": 54,
   "id": "5e547901",
   "metadata": {},
   "outputs": [],
   "source": [
    "# create a column for whether a review is an automated posting (yes, no)\n",
    "def autopost(x):\n",
    "    if 'an automated posting' in x:\n",
    "        return False\n",
    "    else:\n",
    "        return True\n",
    "reviews_sml  = reviews_sml[reviews_sml['comments'].apply(autopost)]"
   ]
  },
  {
   "cell_type": "code",
   "execution_count": 53,
   "id": "4c12ba16",
   "metadata": {},
   "outputs": [],
   "source": [
    "# Remove numbers, capital letters, punctuation, extra blank spaces, etc.\n",
    "\n",
    "alphanumeric = lambda x: re.sub('\\w*\\d\\w*', ' ', x)\n",
    "punc_lower = lambda x: re.sub('[%s]' % re.escape(string.punctuation), ' ', x.lower())\n",
    "remove_non_english_chars = lambda x: re.sub('[^a-zA-Z0-9_]', ' ', x)\n",
    "extra_space = lambda x: re.sub('!{2,}', ' ', x)\n",
    "\n",
    "reviews_sml[\"comments_cln\"] = reviews_sml[\"comments\"].map(alphanumeric).map(punc_lower).map(remove_non_english_chars).map(extra_space)"
   ]
  },
  {
   "cell_type": "code",
   "execution_count": 86,
   "id": "6b0c9ff8",
   "metadata": {},
   "outputs": [],
   "source": [
    "# Pre-processing & Lemmatizing text #\n",
    "\n",
    "def lemmatize_with_postag(sentence):\n",
    "    sent = TextBlob(sentence)\n",
    "    tag_dict = {\"J\": 'a', \n",
    "                \"N\": 'n', \n",
    "                \"V\": 'v', \n",
    "                \"R\": 'r'}\n",
    "    words_and_tags = [(w, tag_dict.get(pos[0], 'n')) for w, pos in sent.tags]    \n",
    "    lemmatized_list = [wd.lemmatize(tag) for wd, tag in words_and_tags]\n",
    "    return \" \".join(lemmatized_list)\n",
    "\n",
    "reviews_sml['comments_lmn'] = reviews_sml['comments_cln'].apply(lambda x: lemmatize_with_postag(x))#lemmatization"
   ]
  },
  {
   "cell_type": "code",
   "execution_count": 88,
   "id": "5c405be5",
   "metadata": {},
   "outputs": [],
   "source": [
    "reviews_sml.drop('comments_leman', axis =1, inplace = True)"
   ]
  },
  {
   "cell_type": "code",
   "execution_count": 89,
   "id": "b7d88724",
   "metadata": {},
   "outputs": [
    {
     "data": {
      "text/plain": [
       "(43947, 8)"
      ]
     },
     "execution_count": 89,
     "metadata": {},
     "output_type": "execute_result"
    }
   ],
   "source": [
    "reviews_sml.shape"
   ]
  },
  {
   "cell_type": "code",
   "execution_count": 90,
   "id": "918d1ff4",
   "metadata": {},
   "outputs": [],
   "source": [
    "#Store data in pickle object to use for modeling\n",
    "reviews_sml.to_pickle('reviews_Eng.pickle')"
   ]
  },
  {
   "cell_type": "code",
   "execution_count": 91,
   "id": "297de0bd",
   "metadata": {},
   "outputs": [
    {
     "data": {
      "text/html": [
       "<div>\n",
       "<style scoped>\n",
       "    .dataframe tbody tr th:only-of-type {\n",
       "        vertical-align: middle;\n",
       "    }\n",
       "\n",
       "    .dataframe tbody tr th {\n",
       "        vertical-align: top;\n",
       "    }\n",
       "\n",
       "    .dataframe thead th {\n",
       "        text-align: right;\n",
       "    }\n",
       "</style>\n",
       "<table border=\"1\" class=\"dataframe\">\n",
       "  <thead>\n",
       "    <tr style=\"text-align: right;\">\n",
       "      <th></th>\n",
       "      <th>listing_id</th>\n",
       "      <th>id</th>\n",
       "      <th>date</th>\n",
       "      <th>reviewer_id</th>\n",
       "      <th>reviewer_name</th>\n",
       "      <th>comments</th>\n",
       "      <th>comments_cln</th>\n",
       "      <th>comments_lmn</th>\n",
       "    </tr>\n",
       "  </thead>\n",
       "  <tbody>\n",
       "    <tr>\n",
       "      <th>690518</th>\n",
       "      <td>31267560</td>\n",
       "      <td>735699981</td>\n",
       "      <td>2021-03-01</td>\n",
       "      <td>387277763</td>\n",
       "      <td>Jasmine</td>\n",
       "      <td>Lakshmee was amazing ! Very nice for one night...</td>\n",
       "      <td>lakshmee was amazing   very nice for one night...</td>\n",
       "      <td>lakshmee be amaze very nice for one night she ...</td>\n",
       "    </tr>\n",
       "    <tr>\n",
       "      <th>620226</th>\n",
       "      <td>25626152</td>\n",
       "      <td>282142661</td>\n",
       "      <td>2018-06-26</td>\n",
       "      <td>91671544</td>\n",
       "      <td>Marvin</td>\n",
       "      <td>Hyas place was awesome!  She was very helpful ...</td>\n",
       "      <td>hyas place was awesome   she was very helpful ...</td>\n",
       "      <td>hyas place be awesome she be very helpful and ...</td>\n",
       "    </tr>\n",
       "    <tr>\n",
       "      <th>560286</th>\n",
       "      <td>21786958</td>\n",
       "      <td>272487388</td>\n",
       "      <td>2018-06-03</td>\n",
       "      <td>92399364</td>\n",
       "      <td>Kristina</td>\n",
       "      <td>Sharon is super nice. the whole stay was great...</td>\n",
       "      <td>sharon is super nice  the whole stay was great...</td>\n",
       "      <td>sharon be super nice the whole stay be great w...</td>\n",
       "    </tr>\n",
       "  </tbody>\n",
       "</table>\n",
       "</div>"
      ],
      "text/plain": [
       "        listing_id         id        date  reviewer_id reviewer_name  \\\n",
       "690518    31267560  735699981  2021-03-01    387277763       Jasmine   \n",
       "620226    25626152  282142661  2018-06-26     91671544        Marvin   \n",
       "560286    21786958  272487388  2018-06-03     92399364      Kristina   \n",
       "\n",
       "                                                 comments  \\\n",
       "690518  Lakshmee was amazing ! Very nice for one night...   \n",
       "620226  Hyas place was awesome!  She was very helpful ...   \n",
       "560286  Sharon is super nice. the whole stay was great...   \n",
       "\n",
       "                                             comments_cln  \\\n",
       "690518  lakshmee was amazing   very nice for one night...   \n",
       "620226  hyas place was awesome   she was very helpful ...   \n",
       "560286  sharon is super nice  the whole stay was great...   \n",
       "\n",
       "                                             comments_lmn  \n",
       "690518  lakshmee be amaze very nice for one night she ...  \n",
       "620226  hyas place be awesome she be very helpful and ...  \n",
       "560286  sharon be super nice the whole stay be great w...  "
      ]
     },
     "execution_count": 91,
     "metadata": {},
     "output_type": "execute_result"
    }
   ],
   "source": [
    "df= pd.read_pickle('reviews_Eng.pickle')\n",
    "df.head(3)"
   ]
  },
  {
   "cell_type": "code",
   "execution_count": 242,
   "id": "b5aa885c",
   "metadata": {},
   "outputs": [],
   "source": [
    "stopwords_addition = [\"airbnb\", \"bnb\", \"a\", \"aa\", \"aaa\", \"br\", \"york\", \"need\", \"make\",\n",
    "                      \"good\", \"great\", \"perfect\", \"br\", \"amazing\", \"recommend\", \"place\", \"like\", \"nice\",\n",
    "                    \"room\", \"stay\", \"overall\", \"really\", \"check\",  \"unit\", \"did\", \"didn\", \"day\",\n",
    "                    \"night\", \"just\", \"super\", \"love\",  \"days\", \"lot\",\"awesome\", \"ny\",\n",
    "                    \"definitely\", \"wonderful\", \"reservation\",  \"s\", \"locate\",\"nyc\", \"location\",'thanks','thank', \"brooklyn\", \n",
    "                      \"manhattan\", \"away\", \"station\", \"time\", \"come\",\"thoroughly\",\"ve\",'t']\n",
    "custom_stopwords = text.ENGLISH_STOP_WORDS.union(stopwords_addition)"
   ]
  },
  {
   "cell_type": "code",
   "execution_count": 229,
   "id": "935cc6a8",
   "metadata": {
    "scrolled": false
   },
   "outputs": [
    {
     "data": {
      "image/png": "[encoded data removed]",
      "text/plain": [
       "<Figure size 864x432 with 1 Axes>"
      ]
     },
     "metadata": {
      "needs_background": "light"
     },
     "output_type": "display_data"
    }
   ],
   "source": [
    "from wordcloud import WordCloud\n",
    "\n",
    "words = \" \".join(str(w) for w in df.comments_cln)\n",
    "plt.subplots(figsize=(12,6))\n",
    "wordcloud = WordCloud(stopwords =custom_stopwords, background_color='white',width=650,height=250,max_words=80).generate(words)\n",
    "plt.imshow(wordcloud)\n",
    "plt.axis('off')\n",
    "plt.savefig('name.png',bbox_inches = 'tight')\n",
    "plt.show()\n"
   ]
  },
  {
   "cell_type": "code",
   "execution_count": 320,
   "id": "5af24040",
   "metadata": {
    "scrolled": false
   },
   "outputs": [
    {
     "data": {
      "image/png": "[encoded data removed]",
      "text/plain": [
       "<Figure size 576x576 with 1 Axes>"
      ]
     },
     "metadata": {
      "needs_background": "light"
     },
     "output_type": "display_data"
    }
   ],
   "source": [
    "top_N = 15\n",
    "\n",
    "words = nltk.tokenize.word_tokenize(\" \".join(str(w) for w in df.comments_cln))\n",
    "    #df.comments_cln.str.cat(sep = ' '))\n",
    "\n",
    "words1 = [word for word in words if word not in custom_stopwords]\n",
    "    \n",
    "word_dist = nltk.FreqDist(words1)\n",
    "rslt = pd.DataFrame(word_dist.most_common(top_N),\n",
    "                    columns=['Word', 'Frequency'])\n",
    "\n",
    "fig, ax = plt.subplots(figsize=(8, 8))\n",
    "\n",
    "# Plot horizontal bar graph\n",
    "rslt.sort_values(by='Frequency').plot.barh(x='Word',\n",
    "                      y='Frequency',\n",
    "                      ax=ax,\n",
    "                      color=\"purple\")\n",
    "\n",
    "ax.set_title(\"Most Frequent Words\")\n",
    "plt.savefig('frequent_hist.png',bbox_inches = 'tight')\n",
    "plt.show()"
   ]
  },
  {
   "cell_type": "code",
   "execution_count": 321,
   "id": "1e31ab0a",
   "metadata": {},
   "outputs": [
    {
     "data": {
      "image/png": "[encoded data removed]",
      "text/plain": [
       "<Figure size 576x576 with 1 Axes>"
      ]
     },
     "metadata": {
      "needs_background": "light"
     },
     "output_type": "display_data"
    }
   ],
   "source": [
    "def get_top_n_words(corpus, n=None):\n",
    "    vec = CountVectorizer(stop_words=custom_stopwords).fit(corpus)\n",
    "    bag_of_words = vec.transform(corpus)\n",
    "    sum_words = bag_of_words.sum(axis=0) \n",
    "    words_freq = [(word, sum_words[0, idx]) for word, idx in vec.vocabulary_.items()]\n",
    "    words_freq =sorted(words_freq, key = lambda x: x[1], reverse=True)\n",
    "    return words_freq[:n]\n",
    "common_words = get_top_n_words(df['comments_lmn'], 15)\n",
    "df2 = pd.DataFrame(common_words, columns = ['Unigram' , 'Frequency'])\n",
    "\n",
    "fig, ax = plt.subplots(figsize=(8, 8))\n",
    "\n",
    "# Plot horizontal bar graph\n",
    "df2.sort_values(by='Frequency').plot.barh(x='Unigram',\n",
    "                      y='Frequency',\n",
    "                      ax=ax,\n",
    "                      color=\"purple\")\n",
    "\n",
    "ax.set_title(\"Most Frequent Words\")\n",
    "plt.savefig('unigram_hist.png',bbox_inches = 'tight')\n",
    "plt.show()"
   ]
  },
  {
   "cell_type": "code",
   "execution_count": 322,
   "id": "c50125c2",
   "metadata": {},
   "outputs": [
    {
     "data": {
      "image/png": "[encoded data removed]",
      "text/plain": [
       "<Figure size 576x576 with 1 Axes>"
      ]
     },
     "metadata": {
      "needs_background": "light"
     },
     "output_type": "display_data"
    }
   ],
   "source": [
    "def get_top_n_bigram(corpus, n=None):\n",
    "    vec = CountVectorizer(ngram_range=(2, 2), stop_words=custom_stopwords).fit(corpus)\n",
    "    bag_of_words = vec.transform(corpus)\n",
    "    sum_words = bag_of_words.sum(axis=0) \n",
    "    words_freq = [(word, sum_words[0, idx]) for word, idx in vec.vocabulary_.items()]\n",
    "    words_freq =sorted(words_freq, key = lambda x: x[1], reverse=True)\n",
    "    return words_freq[:n]\n",
    "common_words = get_top_n_bigram(df['comments_lmn'], 15)\n",
    "df3 = pd.DataFrame(common_words, columns = ['Bigram' , 'Frequency'])\n",
    "\n",
    "fig, ax = plt.subplots(figsize=(8, 8))\n",
    "\n",
    "# Plot horizontal bar graph\n",
    "df3.sort_values(by='Frequency').plot.barh(x='Bigram',\n",
    "                      y='Frequency',\n",
    "                      ax=ax,\n",
    "                      color=\"purple\")\n",
    "\n",
    "ax.set_title(\"Most Frequent Bigrams\")\n",
    "plt.savefig('bigram_hist.png',bbox_inches = 'tight')\n",
    "plt.show()"
   ]
  },
  {
   "cell_type": "code",
   "execution_count": 323,
   "id": "2001ca28",
   "metadata": {},
   "outputs": [
    {
     "data": {
      "image/png": "[encoded data removed]",
      "text/plain": [
       "<Figure size 576x576 with 1 Axes>"
      ]
     },
     "metadata": {
      "needs_background": "light"
     },
     "output_type": "display_data"
    }
   ],
   "source": [
    "def get_top_n_trigram(corpus, n=None):\n",
    "    vec = CountVectorizer(ngram_range=(3, 3), stop_words=custom_stopwords).fit(corpus)\n",
    "    bag_of_words = vec.transform(corpus)\n",
    "    sum_words = bag_of_words.sum(axis=0) \n",
    "    words_freq = [(word, sum_words[0, idx]) for word, idx in vec.vocabulary_.items()]\n",
    "    words_freq =sorted(words_freq, key = lambda x: x[1], reverse=True)\n",
    "    return words_freq[:n]\n",
    "common_words = get_top_n_trigram(df['comments_lmn'], 15)\n",
    "df4 = pd.DataFrame(common_words, columns = ['Trigram' , 'Frequency'])\n",
    "\n",
    "fig, ax = plt.subplots(figsize=(8, 8))\n",
    "\n",
    "# Plot horizontal bar graph\n",
    "df4.sort_values(by='Frequency').plot.barh(x='Trigram',\n",
    "                      y='Frequency',\n",
    "                      ax=ax,\n",
    "                      color=\"purple\")\n",
    "\n",
    "ax.set_title(\"Most Frequent Trigrams\")\n",
    "plt.savefig('trigram_hist.png',bbox_inches = 'tight')\n",
    "plt.show()"
   ]
  },
  {
   "cell_type": "code",
   "execution_count": 154,
   "id": "4e79309e",
   "metadata": {},
   "outputs": [],
   "source": [
    "def make_topics(docs, preprocessor, vectorizer, topic_modeler, print_n_words=10):\n",
    "    \"\"\"A very simple pipeline.\"\"\"\n",
    "    \n",
    "    # Apply preprocessor, vectorizer, and topic modeler.\n",
    "    if preprocessor is not None:\n",
    "        docs = docs.apply(preprocessor)\n",
    "    \n",
    "    # Vectorize documents into a document-word matrix.\n",
    "    doc_word_vectors = vectorizer.fit_transform(docs)\n",
    "    \n",
    "    # Fit the topic model.\n",
    "    doc_topic_vectors = topic_modeler.fit_transform(doc_word_vectors)\n",
    "    \n",
    "    # Print the topics.\n",
    "    vocab = vectorizer.get_feature_names()\n",
    "    for idx, topic in enumerate(topic_modeler.components_):\n",
    "        # Select the top 15 words in vocab for this topic.\n",
    "        top_words = [vocab[i].upper() for i in topic.argsort()[:-print_n_words-1:-1]]\n",
    "        print(f\"Topic {idx}:\\n\", \", \".join(top_words), \"\\n\")\n",
    "    \n",
    "    return doc_topic_vectors"
   ]
  },
  {
   "cell_type": "code",
   "execution_count": 143,
   "id": "038f8a25",
   "metadata": {},
   "outputs": [],
   "source": [
    "docs = df[\"comments_lmn\"]"
   ]
  },
  {
   "cell_type": "code",
   "execution_count": 319,
   "id": "eaaf6184",
   "metadata": {},
   "outputs": [
    {
     "data": {
      "text/html": [
       "<div>\n",
       "<style scoped>\n",
       "    .dataframe tbody tr th:only-of-type {\n",
       "        vertical-align: middle;\n",
       "    }\n",
       "\n",
       "    .dataframe tbody tr th {\n",
       "        vertical-align: top;\n",
       "    }\n",
       "\n",
       "    .dataframe thead th {\n",
       "        text-align: right;\n",
       "    }\n",
       "</style>\n",
       "<table border=\"1\" class=\"dataframe\">\n",
       "  <thead>\n",
       "    <tr style=\"text-align: right;\">\n",
       "      <th></th>\n",
       "      <th>listing_id</th>\n",
       "      <th>id</th>\n",
       "      <th>date</th>\n",
       "      <th>reviewer_id</th>\n",
       "      <th>reviewer_name</th>\n",
       "      <th>comments</th>\n",
       "      <th>comments_cln</th>\n",
       "      <th>comments_lmn</th>\n",
       "    </tr>\n",
       "  </thead>\n",
       "  <tbody>\n",
       "    <tr>\n",
       "      <th>690518</th>\n",
       "      <td>31267560</td>\n",
       "      <td>735699981</td>\n",
       "      <td>2021-03-01</td>\n",
       "      <td>387277763</td>\n",
       "      <td>Jasmine</td>\n",
       "      <td>Lakshmee was amazing ! Very nice for one night...</td>\n",
       "      <td>lakshmee was amazing   very nice for one night...</td>\n",
       "      <td>lakshmee be amaze very nice for one night she ...</td>\n",
       "    </tr>\n",
       "    <tr>\n",
       "      <th>620226</th>\n",
       "      <td>25626152</td>\n",
       "      <td>282142661</td>\n",
       "      <td>2018-06-26</td>\n",
       "      <td>91671544</td>\n",
       "      <td>Marvin</td>\n",
       "      <td>Hyas place was awesome!  She was very helpful ...</td>\n",
       "      <td>hyas place was awesome   she was very helpful ...</td>\n",
       "      <td>hyas place be awesome she be very helpful and ...</td>\n",
       "    </tr>\n",
       "    <tr>\n",
       "      <th>560286</th>\n",
       "      <td>21786958</td>\n",
       "      <td>272487388</td>\n",
       "      <td>2018-06-03</td>\n",
       "      <td>92399364</td>\n",
       "      <td>Kristina</td>\n",
       "      <td>Sharon is super nice. the whole stay was great...</td>\n",
       "      <td>sharon is super nice  the whole stay was great...</td>\n",
       "      <td>sharon be super nice the whole stay be great w...</td>\n",
       "    </tr>\n",
       "    <tr>\n",
       "      <th>795187</th>\n",
       "      <td>42233237</td>\n",
       "      <td>667104874</td>\n",
       "      <td>2020-09-22</td>\n",
       "      <td>450855</td>\n",
       "      <td>Maria Jose</td>\n",
       "      <td>Nice apt, nice bathroom, nice mattress, but ve...</td>\n",
       "      <td>nice apt  nice bathroom  nice mattress  but ve...</td>\n",
       "      <td>nice apt nice bathroom nice mattress but very ...</td>\n",
       "    </tr>\n",
       "    <tr>\n",
       "      <th>846818</th>\n",
       "      <td>50773840</td>\n",
       "      <td>404233394171661050</td>\n",
       "      <td>2021-07-11</td>\n",
       "      <td>410357003</td>\n",
       "      <td>Sandhya</td>\n",
       "      <td>This was our first Airbnb rental. The place is...</td>\n",
       "      <td>this was our first airbnb rental  the place is...</td>\n",
       "      <td>this be our first airbnb rental the place be e...</td>\n",
       "    </tr>\n",
       "  </tbody>\n",
       "</table>\n",
       "</div>"
      ],
      "text/plain": [
       "        listing_id                  id        date  reviewer_id reviewer_name  \\\n",
       "690518    31267560           735699981  2021-03-01    387277763       Jasmine   \n",
       "620226    25626152           282142661  2018-06-26     91671544        Marvin   \n",
       "560286    21786958           272487388  2018-06-03     92399364      Kristina   \n",
       "795187    42233237           667104874  2020-09-22       450855    Maria Jose   \n",
       "846818    50773840  404233394171661050  2021-07-11    410357003       Sandhya   \n",
       "\n",
       "                                                 comments  \\\n",
       "690518  Lakshmee was amazing ! Very nice for one night...   \n",
       "620226  Hyas place was awesome!  She was very helpful ...   \n",
       "560286  Sharon is super nice. the whole stay was great...   \n",
       "795187  Nice apt, nice bathroom, nice mattress, but ve...   \n",
       "846818  This was our first Airbnb rental. The place is...   \n",
       "\n",
       "                                             comments_cln  \\\n",
       "690518  lakshmee was amazing   very nice for one night...   \n",
       "620226  hyas place was awesome   she was very helpful ...   \n",
       "560286  sharon is super nice  the whole stay was great...   \n",
       "795187  nice apt  nice bathroom  nice mattress  but ve...   \n",
       "846818  this was our first airbnb rental  the place is...   \n",
       "\n",
       "                                             comments_lmn  \n",
       "690518  lakshmee be amaze very nice for one night she ...  \n",
       "620226  hyas place be awesome she be very helpful and ...  \n",
       "560286  sharon be super nice the whole stay be great w...  \n",
       "795187  nice apt nice bathroom nice mattress but very ...  \n",
       "846818  this be our first airbnb rental the place be e...  "
      ]
     },
     "execution_count": 319,
     "metadata": {},
     "output_type": "execute_result"
    }
   ],
   "source": [
    "df.head()"
   ]
  },
  {
   "cell_type": "markdown",
   "id": "0acf6842",
   "metadata": {},
   "source": [
    "# TFIDF / NMF"
   ]
  },
  {
   "cell_type": "markdown",
   "id": "b7204f22",
   "metadata": {},
   "source": [
    "TF-IDF Vectorizer\n",
    "NMF topic modeler"
   ]
  },
  {
   "cell_type": "code",
   "execution_count": 191,
   "id": "2a0013fa",
   "metadata": {},
   "outputs": [
    {
     "name": "stderr",
     "output_type": "stream",
     "text": [
      "C:\\Users\\12157\\anaconda3\\envs\\metis\\lib\\site-packages\\sklearn\\decomposition\\_nmf.py:312: FutureWarning: The 'init' value, when 'init=None' and n_components is less than n_samples and n_features, will be changed from 'nndsvd' to 'nndsvda' in 1.1 (renaming of 0.26).\n",
      "  warnings.warn((\"The 'init' value, when 'init=None' and \"\n"
     ]
    },
    {
     "name": "stdout",
     "output_type": "stream",
     "text": [
      "Topic 0:\n",
      " WALK, AREA, MINUTE, NEW, CITY, HOUSE, EXPERIENCE, RESTAURANT, DISTANCE, BATHROOM \n",
      "\n",
      "Topic 1:\n",
      " HOST, RESPONSIVE, EXCELLENT, KIND, ACCOMMODATE, FANTASTIC, BEST, COMMUNICATION, GRACIOUS, RESPOND \n",
      "\n",
      "Topic 2:\n",
      " CLEAN, SPACIOUS, STYLISH, HOUSE, BATHROOM, COMFY, COMMUNICATION, PRIVATE, SPARKLE, MODERN \n",
      "\n",
      "Topic 3:\n",
      " APARTMENT, SPACIOUS, LOVELY, EXCELLENT, FANTASTIC, RESPONSIVE, EXACTLY, BUILDING, EQUIP, CUTE \n",
      "\n",
      "Topic 4:\n",
      " CLOSE, SUBWAY, RESTAURANT, SHOP, TRAIN, PUBLIC, PARK, METRO, TRANSPORTATION, BAR \n",
      "\n",
      "Topic 5:\n",
      " COMFORTABLE, BED, SPACIOUS, FELT, EXTREMELY, SHOWER, SLEEP, SURE, LARGE, FEEL \n",
      "\n",
      "Topic 6:\n",
      " EASY, COMMUNICATION, ACCESS, COMMUNICATE, QUICK, VALUE, EXCELLENT, PROCESS, CITY, SUBWAY \n",
      "\n",
      "Topic 7:\n",
      " SPACE, BEAUTIFUL, VALUE, STYLISH, EXCELLENT, PLENTY, RESPONSIVE, AMENITY, CUTE, COOL \n",
      "\n",
      "Topic 8:\n",
      " HIGHLY, RECOMMENDED, EXCELLENT, FANTASTIC, COMMUNICATION, LOVELY, HOSPITALITY, SPACIOUS, ACCOMMODATE, EXPERIENCE \n",
      "\n",
      "Topic 9:\n",
      " HOME, BEAUTIFUL, FEEL, LOVELY, FELT, WELCOME, HOUSE, FAMILY, ABSOLUTELY, RIGHT \n",
      "\n",
      "Topic 10:\n",
      " QUIET, NEIGHBORHOOD, SAFE, LOVELY, SPACIOUS, STREET, RESTAURANT, PEACEFUL, BLOCK, RESIDENTIAL \n",
      "\n",
      "Topic 11:\n",
      " FRIENDLY, HELPFUL, RESPONSIVE, ACCOMMODATE, STAFF, EXTREMELY, EXPERIENCE, KIND, CAT, TIP \n",
      "\n",
      "Topic 12:\n",
      " ENJOY, BOOK, LOVELY, SPACIOUS, FAMILY, HOSPITALITY, VIEW, CITY, TRIP, FUN \n",
      "\n",
      "Topic 13:\n",
      " COZY, AMAZE, SPOT, BOOK, CUTE, HOSPITALITY, VIEW, LOOK, BEST, COMMUNICATION \n",
      "\n",
      "Topic 14:\n",
      " CONVENIENT, VALUE, PRICE, RESPONSIVE, NEAR, SUBWAY, TRANSPORTATION, CUTE, TRAIN, AIRPORT \n",
      "\n"
     ]
    }
   ],
   "source": [
    "#Baseline model\n",
    "preprocessor = None\n",
    "vectorizer = TfidfVectorizer(stop_words=custom_stopwords)  \n",
    "topic_modeler = NMF(15, random_state=10)\n",
    "\n",
    "make_topics(docs, preprocessor, vectorizer, topic_modeler);"
   ]
  },
  {
   "cell_type": "code",
   "execution_count": 187,
   "id": "59072b83",
   "metadata": {},
   "outputs": [
    {
     "name": "stderr",
     "output_type": "stream",
     "text": [
      "C:\\Users\\12157\\anaconda3\\envs\\metis\\lib\\site-packages\\sklearn\\decomposition\\_nmf.py:312: FutureWarning: The 'init' value, when 'init=None' and n_components is less than n_samples and n_features, will be changed from 'nndsvd' to 'nndsvda' in 1.1 (renaming of 0.26).\n",
      "  warnings.warn((\"The 'init' value, when 'init=None' and \"\n"
     ]
    },
    {
     "name": "stdout",
     "output_type": "stream",
     "text": [
      "Topic 0:\n",
      " CLOSE, SUBWAY, EASY, WALK, SPACE, HOME, NEIGHBORHOOD, HIGHLY, RESTAURANT, CLOSE SUBWAY \n",
      "\n",
      "Topic 1:\n",
      " HOST, FRIENDLY, FRIENDLY HOST, CLEAN HOST, RESPONSIVE, HELPFUL, EXCELLENT HOST, HOST CLEAN, EXCELLENT, HELPFUL HOST \n",
      "\n",
      "Topic 2:\n",
      " CLEAN, CLEAN HOST, CLEAN COMFORTABLE, CLEAN QUIET, APARTMENT CLEAN, HOST CLEAN, CLEAN SPACIOUS, QUIET, SPACIOUS, CLEAN COZY \n",
      "\n",
      "Topic 3:\n",
      " APARTMENT, APARTMENT CLEAN, CLEAN APARTMENT, HOST APARTMENT, SPACIOUS, BEAUTIFUL APARTMENT, APARTMENT CLOSE, APARTMENT SPACIOUS, SPACIOUS APARTMENT, LOVELY \n",
      "\n",
      "Topic 4:\n",
      " COMFORTABLE, CLEAN COMFORTABLE, BED, BED COMFORTABLE, COMFORTABLE BED, COMFORTABLE CLEAN, COMFORTABLE APARTMENT, COMFORTABLE SPACE, SPACIOUS COMFORTABLE, COMFORTABLE HOST \n",
      "\n"
     ]
    }
   ],
   "source": [
    "preprocessor = None\n",
    "vectorizer1 = TfidfVectorizer(stop_words=custom_stopwords,ngram_range=(1,2), max_df = 0.8)  # Single change to add in common English stop words.\n",
    "topic_modeler1 = NMF(5, random_state=10)\n",
    "\n",
    "make_topics(docs, preprocessor, vectorizer1, topic_modeler1);"
   ]
  },
  {
   "cell_type": "code",
   "execution_count": 188,
   "id": "b09ec788",
   "metadata": {},
   "outputs": [
    {
     "name": "stderr",
     "output_type": "stream",
     "text": [
      "C:\\Users\\12157\\anaconda3\\envs\\metis\\lib\\site-packages\\sklearn\\decomposition\\_nmf.py:312: FutureWarning: The 'init' value, when 'init=None' and n_components is less than n_samples and n_features, will be changed from 'nndsvd' to 'nndsvda' in 1.1 (renaming of 0.26).\n",
      "  warnings.warn((\"The 'init' value, when 'init=None' and \"\n"
     ]
    },
    {
     "name": "stdout",
     "output_type": "stream",
     "text": [
      "Topic 0:\n",
      " COMFORTABLE, SPACE, HOME, BEAUTIFUL, BED, HIGHLY, LOVELY, FEEL, FELT, AMAZE \n",
      "\n",
      "Topic 1:\n",
      " HOST, FRIENDLY, HELPFUL, RESPONSIVE, EXCELLENT, ACCOMMODATE, KIND, HIGHLY, COMMUNICATION, FANTASTIC \n",
      "\n",
      "Topic 2:\n",
      " CLEAN, QUIET, SPACIOUS, COZY, CONVENIENT, COMFORTABLE, COMMUNICATION, EASY, STYLISH, FRIENDLY \n",
      "\n",
      "Topic 3:\n",
      " APARTMENT, SPACIOUS, LOVELY, EXCELLENT, FANTASTIC, NEW, ENJOY, RESPONSIVE, HELPFUL, EXACTLY \n",
      "\n",
      "Topic 4:\n",
      " CLOSE, SUBWAY, EASY, WALK, RESTAURANT, MINUTE, NEIGHBORHOOD, PARK, TRAIN, CITY \n",
      "\n"
     ]
    },
    {
     "name": "stderr",
     "output_type": "stream",
     "text": [
      "C:\\Users\\12157\\anaconda3\\envs\\metis\\lib\\site-packages\\sklearn\\decomposition\\_nmf.py:1090: ConvergenceWarning: Maximum number of iterations 200 reached. Increase it to improve convergence.\n",
      "  warnings.warn(\"Maximum number of iterations %d reached. Increase it to\"\n"
     ]
    }
   ],
   "source": [
    "preprocessor = None\n",
    "vectorizer2 = TfidfVectorizer(stop_words=custom_stopwords, max_df = 0.8)  \n",
    "topic_modeler1 = NMF(5, random_state=10)\n",
    "\n",
    "make_topics(docs, preprocessor, vectorizer2, topic_modeler1); #this one looks promising "
   ]
  },
  {
   "cell_type": "code",
   "execution_count": 193,
   "id": "08fd63d1",
   "metadata": {},
   "outputs": [
    {
     "name": "stderr",
     "output_type": "stream",
     "text": [
      "C:\\Users\\12157\\anaconda3\\envs\\metis\\lib\\site-packages\\sklearn\\decomposition\\_nmf.py:312: FutureWarning: The 'init' value, when 'init=None' and n_components is less than n_samples and n_features, will be changed from 'nndsvd' to 'nndsvda' in 1.1 (renaming of 0.26).\n",
      "  warnings.warn((\"The 'init' value, when 'init=None' and \"\n"
     ]
    },
    {
     "name": "stdout",
     "output_type": "stream",
     "text": [
      "Topic 0:\n",
      " COMFORTABLE, SPACE, HOME, BEAUTIFUL, BED \n",
      "\n",
      "Topic 1:\n",
      " HOST, FRIENDLY, HELPFUL, RESPONSIVE, EXCELLENT \n",
      "\n",
      "Topic 2:\n",
      " CLEAN, QUIET, SPACIOUS, COZY, CONVENIENT \n",
      "\n",
      "Topic 3:\n",
      " APARTMENT, SPACIOUS, LOVELY, EXCELLENT, FANTASTIC \n",
      "\n",
      "Topic 4:\n",
      " CLOSE, SUBWAY, EASY, WALK, RESTAURANT \n",
      "\n"
     ]
    },
    {
     "name": "stderr",
     "output_type": "stream",
     "text": [
      "C:\\Users\\12157\\anaconda3\\envs\\metis\\lib\\site-packages\\sklearn\\decomposition\\_nmf.py:1090: ConvergenceWarning: Maximum number of iterations 200 reached. Increase it to improve convergence.\n",
      "  warnings.warn(\"Maximum number of iterations %d reached. Increase it to\"\n"
     ]
    }
   ],
   "source": [
    "preprocessor = None\n",
    "vectorizer2 = TfidfVectorizer(stop_words=custom_stopwords, max_df = 0.8) \n",
    "topic_modeler1 = NMF(5, random_state=10)\n",
    "\n",
    "make_topics(docs, preprocessor, vectorizer2, topic_modeler1, 5);"
   ]
  },
  {
   "cell_type": "code",
   "execution_count": 189,
   "id": "cb7bee1f",
   "metadata": {},
   "outputs": [
    {
     "name": "stderr",
     "output_type": "stream",
     "text": [
      "C:\\Users\\12157\\anaconda3\\envs\\metis\\lib\\site-packages\\sklearn\\decomposition\\_nmf.py:312: FutureWarning: The 'init' value, when 'init=None' and n_components is less than n_samples and n_features, will be changed from 'nndsvd' to 'nndsvda' in 1.1 (renaming of 0.26).\n",
      "  warnings.warn((\"The 'init' value, when 'init=None' and \"\n"
     ]
    },
    {
     "name": "stdout",
     "output_type": "stream",
     "text": [
      "Topic 0:\n",
      " HOME, WALK, NEIGHBORHOOD, ENJOY, QUIET, AREA, HELPFUL, MINUTE, HOUSE, FRIENDLY \n",
      "\n",
      "Topic 1:\n",
      " HOST, FRIENDLY, FRIENDLY HOST, CLEAN HOST, RESPONSIVE, HELPFUL, EXCELLENT HOST, HOST CLEAN, EXCELLENT, HOST RESPONSIVE \n",
      "\n",
      "Topic 2:\n",
      " CLEAN, CLEAN HOST, CLEAN COMFORTABLE, APARTMENT CLEAN, CLEAN QUIET, HOST CLEAN, CLEAN SPACIOUS, QUIET, SPACIOUS, CLEAN COZY \n",
      "\n",
      "Topic 3:\n",
      " APARTMENT, APARTMENT CLEAN, CLEAN APARTMENT, HOST APARTMENT, SPACIOUS, BEAUTIFUL APARTMENT, BEAUTIFUL, APARTMENT SPACIOUS, APARTMENT CLOSE, SPACIOUS APARTMENT \n",
      "\n",
      "Topic 4:\n",
      " COMFORTABLE, CLEAN COMFORTABLE, BED, COMFORTABLE CLEAN, COMFORTABLE BED, BED COMFORTABLE, COMFORTABLE APARTMENT, SPACIOUS COMFORTABLE, COMFORTABLE SPACE, APARTMENT COMFORTABLE \n",
      "\n",
      "Topic 5:\n",
      " HIGHLY, HOST HIGHLY, HIGHLY RECOMMENDED, RECOMMENDED, AMAZE, CLEAN HIGHLY, EXCELLENT, APARTMENT HIGHLY, COMFORTABLE HIGHLY, FANTASTIC \n",
      "\n",
      "Topic 6:\n",
      " CLOSE, CLOSE SUBWAY, SUBWAY, CLEAN CLOSE, RESTAURANT, APARTMENT CLOSE, CLOSE TRAIN, CLOSE METRO, SHOP, TRAIN \n",
      "\n",
      "Topic 7:\n",
      " EXPERIENCE, BEST, BEST EXPERIENCE, AMAZE, HOST EXPERIENCE, EXPERIENCE CLEAN, EXPERIENCE HIGHLY, NEW, EXCELLENT, NEW EXPERIENCE \n",
      "\n",
      "Topic 8:\n",
      " EASY, COMMUNICATION, ACCESS, EASY ACCESS, VALUE, COMMUNICATE, EASY COMMUNICATE, CLEAN EASY, QUICK, EXCELLENT \n",
      "\n",
      "Topic 9:\n",
      " SPACE, BEAUTIFUL, AMAZE, CLEAN SPACE, SPACE CLEAN, BEAUTIFUL SPACE, SPACE HOST, HOST SPACE, COMFORTABLE SPACE, STYLISH \n",
      "\n"
     ]
    }
   ],
   "source": [
    "preprocessor = None\n",
    "vectorizer1 = TfidfVectorizer(stop_words=custom_stopwords,ngram_range=(1,2), max_df = 0.8)  # Single change to add in common English stop words.\n",
    "topic_modeler2 = NMF(10, random_state=10)\n",
    "\n",
    "make_topics(docs, preprocessor, vectorizer1, topic_modeler2);"
   ]
  },
  {
   "cell_type": "code",
   "execution_count": 192,
   "id": "3317130d",
   "metadata": {},
   "outputs": [
    {
     "name": "stderr",
     "output_type": "stream",
     "text": [
      "C:\\Users\\12157\\anaconda3\\envs\\metis\\lib\\site-packages\\sklearn\\decomposition\\_nmf.py:312: FutureWarning: The 'init' value, when 'init=None' and n_components is less than n_samples and n_features, will be changed from 'nndsvd' to 'nndsvda' in 1.1 (renaming of 0.26).\n",
      "  warnings.warn((\"The 'init' value, when 'init=None' and \"\n"
     ]
    },
    {
     "name": "stdout",
     "output_type": "stream",
     "text": [
      "Topic 0:\n",
      " CLOSE, SUBWAY, COMFORTABLE, EASY, SPACE, WALK, HOME, HIGHLY, NEIGHBORHOOD, RESTAURANT \n",
      "\n",
      "Topic 1:\n",
      " HOST, FRIENDLY, FRIENDLY HOST, CLEAN HOST, RESPONSIVE, HELPFUL, EXCELLENT HOST, HOST CLEAN, EXCELLENT, HOST RESPONSIVE \n",
      "\n",
      "Topic 2:\n",
      " CLEAN, CLEAN COMFORTABLE, COMFORTABLE, CLEAN HOST, APARTMENT CLEAN, CLEAN QUIET, HOST CLEAN, COMFORTABLE CLEAN, CLEAN SPACIOUS, SPACIOUS \n",
      "\n",
      "Topic 3:\n",
      " APARTMENT, APARTMENT CLEAN, CLEAN APARTMENT, HOST APARTMENT, SPACIOUS, BEAUTIFUL APARTMENT, APARTMENT CLOSE, APARTMENT SPACIOUS, SPACIOUS APARTMENT, LOVELY \n",
      "\n"
     ]
    }
   ],
   "source": [
    "preprocessor = None\n",
    "vectorizer1 = TfidfVectorizer(stop_words=custom_stopwords,ngram_range=(1,2), max_df = 0.8)  # Single change to add in common English stop words.\n",
    "topic_modeler3 = NMF(4, random_state=10)\n",
    "\n",
    "make_topics(docs, preprocessor, vectorizer1, topic_modeler3);"
   ]
  },
  {
   "cell_type": "code",
   "execution_count": 215,
   "id": "b2eb9f00",
   "metadata": {},
   "outputs": [
    {
     "name": "stderr",
     "output_type": "stream",
     "text": [
      "C:\\Users\\12157\\anaconda3\\envs\\metis\\lib\\site-packages\\sklearn\\decomposition\\_nmf.py:312: FutureWarning: The 'init' value, when 'init=None' and n_components is less than n_samples and n_features, will be changed from 'nndsvd' to 'nndsvda' in 1.1 (renaming of 0.26).\n",
      "  warnings.warn((\"The 'init' value, when 'init=None' and \"\n"
     ]
    },
    {
     "name": "stdout",
     "output_type": "stream",
     "text": [
      "Topic 0:\n",
      " CLOSE, SUBWAY, EASY, WALK, SPACE, HOME, COMFORTABLE, NEIGHBORHOOD, RESTAURANT, AREA \n",
      "\n",
      "Topic 1:\n",
      " HOST, FRIENDLY, HELPFUL, RESPONSIVE, EXCELLENT, HIGHLY, ACCOMMODATE, KIND, AMAZE, COMMUNICATION \n",
      "\n",
      "Topic 2:\n",
      " CLEAN, COMFORTABLE, QUIET, SPACIOUS, COZY, CONVENIENT, COMMUNICATION, STYLISH, SPACE, HIGHLY \n",
      "\n",
      "Topic 3:\n",
      " APARTMENT, SPACIOUS, LOVELY, BEAUTIFUL, EXCELLENT, FANTASTIC, HIGHLY, RESPONSIVE, NEW, ENJOY \n",
      "\n"
     ]
    }
   ],
   "source": [
    "preprocessor = None\n",
    "vectorizer2 = TfidfVectorizer(stop_words=custom_stopwords, max_df = 0.8)  # Single change to add in common English stop words.\n",
    "topic_modeler3 = NMF(4, random_state=10)\n",
    "\n",
    "make_topics(docs, preprocessor, vectorizer2, topic_modeler3);"
   ]
  },
  {
   "cell_type": "markdown",
   "id": "3bbfa2b4",
   "metadata": {},
   "source": [
    "# Coherence Score\n",
    "\n",
    "c_v ranges from 0 to 1 with 1 being perfectly coherent topics."
   ]
  },
  {
   "cell_type": "code",
   "execution_count": 285,
   "id": "0ad8b9d2",
   "metadata": {},
   "outputs": [],
   "source": [
    "def process_text(text):\n",
    "    text = [w for w in text if w not in custom_stopwords]\n",
    "    return text\n",
    "docs_clean=  df[\"comments_lmn\"].apply(process_text)"
   ]
  },
  {
   "cell_type": "code",
   "execution_count": 297,
   "id": "a778beb2",
   "metadata": {},
   "outputs": [
    {
     "name": "stdout",
     "output_type": "stream",
     "text": [
      "5\n"
     ]
    },
    {
     "data": {
      "image/png": "[encoded data removed]",
      "text/plain": [
       "<Figure size 1080x504 with 1 Axes>"
      ]
     },
     "metadata": {
      "needs_background": "light"
     },
     "output_type": "display_data"
    }
   ],
   "source": [
    "from gensim.models.coherencemodel import CoherenceModel\n",
    "from gensim.corpora.dictionary import Dictionary\n",
    "from gensim.models.nmf import Nmf\n",
    "from operator import itemgetter\n",
    "\n",
    "#Create a dictionary\n",
    "dictionary = Dictionary(docs_clean)\n",
    "\n",
    "# Filter out extremes to limit the number of features\n",
    "dictionary.filter_extremes(\n",
    "    no_below=3,\n",
    "    no_above=0.85,\n",
    "    keep_n=5000\n",
    ")\n",
    "\n",
    "# Create the bag-of-words format (list of (token_id, token_count))\n",
    "corpus = [dictionary.doc2bow(text) for text in docs_clean]\n",
    "\n",
    "\n",
    "\n",
    "# Create a list of the topic numbers we want to try\n",
    "topic_nums = list(np.arange(5,15, 3))\n",
    "\n",
    "# Run the nmf model and calculate the coherence score\n",
    "# for each number of topics\n",
    "\n",
    "coherence_scores = []\n",
    "\n",
    "for num in topic_nums:\n",
    "    nmf = Nmf(\n",
    "        corpus=corpus,\n",
    "        num_topics=num,\n",
    "        id2word=dictionary,\n",
    "        random_state=10\n",
    "    )\n",
    "    \n",
    "    # Run the coherence model to get the score\n",
    "    cm = CoherenceModel(\n",
    "        model=nmf,\n",
    "        texts=docs_clean,\n",
    "        dictionary=dictionary,\n",
    "        coherence='c_v'\n",
    "    )\n",
    "    \n",
    "    coherence_scores.append(round(cm.get_coherence(), 5))\n",
    "\n",
    "# Get the number of topics with the highest coherence score\n",
    "scores = list(zip(topic_nums, coherence_scores))\n",
    "best_num_topics = sorted(scores, key=itemgetter(1), reverse=True)[0][0]\n",
    "\n",
    "print(best_num_topics)\n",
    "\n",
    "\n",
    "# Plot the results\n",
    "fig = plt.figure(figsize=(15, 7))\n",
    "\n",
    "plt.plot(\n",
    "    topic_nums,\n",
    "    coherence_scores,\n",
    "    linewidth=3,\n",
    "    color='#4287f5'\n",
    ")\n",
    "\n",
    "plt.xlabel(\"Topic Num\", fontsize=14)\n",
    "plt.ylabel(\"Coherence Score\", fontsize=14)\n",
    "plt.title('Coherence Score by Topic Number - Best Number of Topics: {}'.format(best_num_topics), fontsize=18)\n",
    "plt.xticks(np.arange(5, max(topic_nums) + 1, 5), fontsize=12)\n",
    "plt.yticks(fontsize=12)\n",
    "\n",
    "\n",
    "plt.savefig('coherenceNMF.png')\n",
    "plt.show()\n"
   ]
  },
  {
   "cell_type": "code",
   "execution_count": 312,
   "id": "f97f6e35",
   "metadata": {},
   "outputs": [
    {
     "name": "stderr",
     "output_type": "stream",
     "text": [
      "C:\\Users\\12157\\anaconda3\\envs\\metis\\lib\\site-packages\\sklearn\\decomposition\\_nmf.py:312: FutureWarning: The 'init' value, when 'init=None' and n_components is less than n_samples and n_features, will be changed from 'nndsvd' to 'nndsvda' in 1.1 (renaming of 0.26).\n",
      "  warnings.warn((\"The 'init' value, when 'init=None' and \"\n"
     ]
    },
    {
     "data": {
      "text/html": [
       "<div>\n",
       "<style scoped>\n",
       "    .dataframe tbody tr th:only-of-type {\n",
       "        vertical-align: middle;\n",
       "    }\n",
       "\n",
       "    .dataframe tbody tr th {\n",
       "        vertical-align: top;\n",
       "    }\n",
       "\n",
       "    .dataframe thead th {\n",
       "        text-align: right;\n",
       "    }\n",
       "</style>\n",
       "<table border=\"1\" class=\"dataframe\">\n",
       "  <thead>\n",
       "    <tr style=\"text-align: right;\">\n",
       "      <th></th>\n",
       "      <th>0</th>\n",
       "      <th>1</th>\n",
       "      <th>2</th>\n",
       "      <th>3</th>\n",
       "      <th>4</th>\n",
       "      <th>5</th>\n",
       "      <th>6</th>\n",
       "      <th>7</th>\n",
       "      <th>topics</th>\n",
       "    </tr>\n",
       "  </thead>\n",
       "  <tbody>\n",
       "    <tr>\n",
       "      <th>0</th>\n",
       "      <td>home</td>\n",
       "      <td>walk</td>\n",
       "      <td>neighborhood</td>\n",
       "      <td>enjoy</td>\n",
       "      <td>quiet</td>\n",
       "      <td>area</td>\n",
       "      <td>helpful</td>\n",
       "      <td>minute</td>\n",
       "      <td>home walk neighborhood enjoy quiet area helpfu...</td>\n",
       "    </tr>\n",
       "    <tr>\n",
       "      <th>1</th>\n",
       "      <td>host</td>\n",
       "      <td>friendly</td>\n",
       "      <td>friendly host</td>\n",
       "      <td>clean host</td>\n",
       "      <td>responsive</td>\n",
       "      <td>helpful</td>\n",
       "      <td>excellent host</td>\n",
       "      <td>host clean</td>\n",
       "      <td>host friendly friendly host clean host respons...</td>\n",
       "    </tr>\n",
       "    <tr>\n",
       "      <th>2</th>\n",
       "      <td>clean</td>\n",
       "      <td>clean host</td>\n",
       "      <td>clean comfortable</td>\n",
       "      <td>apartment clean</td>\n",
       "      <td>clean quiet</td>\n",
       "      <td>host clean</td>\n",
       "      <td>clean spacious</td>\n",
       "      <td>quiet</td>\n",
       "      <td>clean clean host clean comfortable apartment c...</td>\n",
       "    </tr>\n",
       "    <tr>\n",
       "      <th>3</th>\n",
       "      <td>apartment</td>\n",
       "      <td>apartment clean</td>\n",
       "      <td>clean apartment</td>\n",
       "      <td>host apartment</td>\n",
       "      <td>spacious</td>\n",
       "      <td>beautiful apartment</td>\n",
       "      <td>beautiful</td>\n",
       "      <td>apartment spacious</td>\n",
       "      <td>apartment apartment clean clean apartment host...</td>\n",
       "    </tr>\n",
       "    <tr>\n",
       "      <th>4</th>\n",
       "      <td>comfortable</td>\n",
       "      <td>clean comfortable</td>\n",
       "      <td>bed</td>\n",
       "      <td>comfortable clean</td>\n",
       "      <td>comfortable bed</td>\n",
       "      <td>bed comfortable</td>\n",
       "      <td>comfortable apartment</td>\n",
       "      <td>spacious comfortable</td>\n",
       "      <td>comfortable clean comfortable bed comfortable ...</td>\n",
       "    </tr>\n",
       "  </tbody>\n",
       "</table>\n",
       "</div>"
      ],
      "text/plain": [
       "             0                  1                  2                  3  \\\n",
       "0         home               walk       neighborhood              enjoy   \n",
       "1         host           friendly      friendly host         clean host   \n",
       "2        clean         clean host  clean comfortable    apartment clean   \n",
       "3    apartment    apartment clean    clean apartment     host apartment   \n",
       "4  comfortable  clean comfortable                bed  comfortable clean   \n",
       "\n",
       "                 4                    5                      6  \\\n",
       "0            quiet                 area                helpful   \n",
       "1       responsive              helpful         excellent host   \n",
       "2      clean quiet           host clean         clean spacious   \n",
       "3         spacious  beautiful apartment              beautiful   \n",
       "4  comfortable bed      bed comfortable  comfortable apartment   \n",
       "\n",
       "                      7                                             topics  \n",
       "0                minute  home walk neighborhood enjoy quiet area helpfu...  \n",
       "1            host clean  host friendly friendly host clean host respons...  \n",
       "2                 quiet  clean clean host clean comfortable apartment c...  \n",
       "3    apartment spacious  apartment apartment clean clean apartment host...  \n",
       "4  spacious comfortable  comfortable clean comfortable bed comfortable ...  "
      ]
     },
     "execution_count": 312,
     "metadata": {},
     "output_type": "execute_result"
    }
   ],
   "source": [
    "\n",
    "# Create the tfidf weights\n",
    "tfidf_vectorizer = TfidfVectorizer(stop_words=custom_stopwords,\n",
    "    max_df=0.8,\n",
    "    ngram_range=(1, 2),\n",
    "   )\n",
    "\n",
    "\n",
    "tfidf = tfidf_vectorizer.fit_transform(docs)\n",
    "\n",
    "# Save the feature names for later to create topic summaries\n",
    "tfidf_fn = tfidf_vectorizer.get_feature_names()\n",
    "\n",
    "# Run the nmf model\n",
    "nmf = NMF(\n",
    "    n_components=10,\n",
    "    max_iter=500,\n",
    "    solver='cd',\n",
    "    random_state=10\n",
    ").fit(tfidf)\n",
    "\n",
    "\n",
    "# Use the top words for each cluster by tfidf weight\n",
    "# to create 'topics'\n",
    "\n",
    "# Getting a df with each topic by document\n",
    "docweights = nmf.transform(tfidf_vectorizer.transform(docs))\n",
    "\n",
    "n_top_words = 8\n",
    "def top_words(topic, n_top_words):\n",
    "    return topic.argsort()[:-n_top_words - 1:-1] \n",
    "def topic_table(model, feature_names, n_top_words):\n",
    "    topics = {}\n",
    "    for topic_idx, topic in enumerate(model.components_):\n",
    "        t = (topic_idx)\n",
    "        topics[t] = [feature_names[i] for i in topic.argsort()[:-n_top_words - 1:-1]]\n",
    "    return pd.DataFrame(topics)\n",
    "\n",
    "topic_df = topic_table(\n",
    "    nmf,\n",
    "    tfidf_fn,\n",
    "    n_top_words = 8  \n",
    ").T\n",
    "\n",
    "# Cleaning up the top words to create topic summaries\n",
    "topic_df['topics'] = topic_df.apply(lambda x: [' '.join(x)], axis=1) # Joining each word into a list\n",
    "topic_df['topics'] = topic_df['topics'].str[0]  # Removing the list brackets\n",
    "#topic_df['topics'] = topic_df['topics'].apply(lambda x: [' '.join(x)])  # Joining each word into a list\n",
    "#topic_df['topics'] = topic_df['topics'].str[0]  # Removing the list brackets\n",
    "\n",
    "topic_df.head()"
   ]
  },
  {
   "cell_type": "code",
   "execution_count": 313,
   "id": "43e0f620",
   "metadata": {},
   "outputs": [],
   "source": [
    "topic_df['topics'].to_csv('LDAtopic.csv')"
   ]
  },
  {
   "cell_type": "markdown",
   "id": "3e2893dd",
   "metadata": {},
   "source": [
    "# TFIDF / SVD"
   ]
  },
  {
   "cell_type": "code",
   "execution_count": 198,
   "id": "9c286b3f",
   "metadata": {},
   "outputs": [
    {
     "name": "stdout",
     "output_type": "stream",
     "text": [
      "Topic 0:\n",
      " HOST, CLEAN, APARTMENT, COMFORTABLE, CLOSE, SUBWAY, EASY, SPACE, FRIENDLY, HIGHLY \n",
      "\n",
      "Topic 1:\n",
      " HOST, FRIENDLY HOST, HOST HIGHLY, EXCELLENT HOST, HELPFUL HOST, AMAZE HOST, RESPONSIVE HOST, HOST RESPONSIVE, HOST HELPFUL, CLEAN HOST \n",
      "\n",
      "Topic 2:\n",
      " CLEAN, HOST, CLEAN COMFORTABLE, CLEAN HOST, HOST CLEAN, CLEAN QUIET, COMFORTABLE CLEAN, CLEAN CONVENIENT, CLEAN COZY, CLEAN SPACIOUS \n",
      "\n",
      "Topic 3:\n",
      " APARTMENT, APARTMENT CLEAN, CLEAN, CLEAN APARTMENT, HOST APARTMENT, SPACIOUS, BEAUTIFUL APARTMENT, APARTMENT SPACIOUS, SPACIOUS APARTMENT, EXCELLENT \n",
      "\n",
      "Topic 4:\n",
      " COMFORTABLE, CLEAN COMFORTABLE, APARTMENT, HIGHLY, SPACE, BED, HOME, BED COMFORTABLE, COMFORTABLE BED, COMFORTABLE CLEAN \n",
      "\n"
     ]
    }
   ],
   "source": [
    "preprocessor = None\n",
    "vectorizer1 = TfidfVectorizer(stop_words=custom_stopwords,ngram_range=(1,2), max_df = 0.7) \n",
    "topic_modeler4 = TruncatedSVD(5, random_state=10)\n",
    "\n",
    "make_topics(docs, preprocessor, vectorizer1, topic_modeler4);"
   ]
  },
  {
   "cell_type": "code",
   "execution_count": 200,
   "id": "413e2e0b",
   "metadata": {},
   "outputs": [
    {
     "name": "stdout",
     "output_type": "stream",
     "text": [
      "Topic 0:\n",
      " HOST, CLEAN, APARTMENT, COMFORTABLE, CLOSE, SUBWAY, EASY, SPACE, WALK, NEIGHBORHOOD \n",
      "\n",
      "Topic 1:\n",
      " HOST, FRIENDLY, RESPONSIVE, HELPFUL, EXCELLENT, ACCOMMODATE, KIND, AMAZE, GRACIOUS, HIGHLY \n",
      "\n",
      "Topic 2:\n",
      " CLEAN, COMFORTABLE, COZY, SPACIOUS, STYLISH, QUIET, COMMUNICATION, SPARKLE, SPACE, PRIVATE \n",
      "\n",
      "Topic 3:\n",
      " APARTMENT, CLEAN, SPACIOUS, RESPONSIVE, HOST, EXCELLENT, FANTASTIC, EQUIP, EXACTLY, BUILDING \n",
      "\n",
      "Topic 4:\n",
      " CLOSE, SUBWAY, CLEAN, RESTAURANT, EASY, WALK, CONVENIENT, HOST, TRAIN, MINUTE \n",
      "\n"
     ]
    }
   ],
   "source": [
    "preprocessor = None\n",
    "vectorizer2 = TfidfVectorizer(stop_words=custom_stopwords, max_df = 0.8)  \n",
    "topic_modeler4 = TruncatedSVD(5, random_state=10)\n",
    "\n",
    "make_topics(docs, preprocessor, vectorizer2, topic_modeler4);#this is promising "
   ]
  },
  {
   "cell_type": "code",
   "execution_count": 197,
   "id": "e38b2cbb",
   "metadata": {},
   "outputs": [
    {
     "name": "stdout",
     "output_type": "stream",
     "text": [
      "Topic 0:\n",
      " HOST, CLEAN, APARTMENT, COMFORTABLE, CLOSE, SUBWAY, EASY, SPACE, FRIENDLY, HIGHLY \n",
      "\n",
      "Topic 1:\n",
      " HOST, FRIENDLY HOST, HOST HIGHLY, EXCELLENT HOST, HELPFUL HOST, AMAZE HOST, RESPONSIVE HOST, HOST RESPONSIVE, HOST HELPFUL, CLEAN HOST \n",
      "\n",
      "Topic 2:\n",
      " CLEAN, HOST, CLEAN COMFORTABLE, CLEAN HOST, HOST CLEAN, CLEAN QUIET, COMFORTABLE CLEAN, CLEAN CONVENIENT, CLEAN COZY, CLEAN SPACIOUS \n",
      "\n",
      "Topic 3:\n",
      " APARTMENT, APARTMENT CLEAN, CLEAN, CLEAN APARTMENT, HOST APARTMENT, SPACIOUS, BEAUTIFUL APARTMENT, SPACIOUS APARTMENT, APARTMENT SPACIOUS, APARTMENT CLOSE \n",
      "\n",
      "Topic 4:\n",
      " COMFORTABLE, CLEAN COMFORTABLE, HIGHLY, APARTMENT, BED, SPACE, HOME, BED COMFORTABLE, COMFORTABLE BED, COMFORTABLE CLEAN \n",
      "\n",
      "Topic 5:\n",
      " HIGHLY, BEAUTIFUL, AMAZE, HOME, EXPERIENCE, SPACE, EASY, COMMUNICATION, HOST HIGHLY, QUICK \n",
      "\n"
     ]
    }
   ],
   "source": [
    "preprocessor = None\n",
    "vectorizer1 = TfidfVectorizer(stop_words=custom_stopwords,ngram_range=(1,2), max_df = 0.8) \n",
    "topic_modeler5 = TruncatedSVD(6, random_state=10)\n",
    "\n",
    "make_topics(docs, preprocessor, vectorizer1, topic_modeler5);"
   ]
  },
  {
   "cell_type": "markdown",
   "id": "90670c53",
   "metadata": {},
   "source": [
    "# TFIDF / LatentDirichletAllocation"
   ]
  },
  {
   "cell_type": "code",
   "execution_count": 209,
   "id": "9c36a9e7",
   "metadata": {},
   "outputs": [
    {
     "name": "stdout",
     "output_type": "stream",
     "text": [
      "Topic 0:\n",
      " SPACE, CLEAN, HOST, APARTMENT, COMFORTABLE, WALK, CLOSE, EASY, SUBWAY, NEIGHBORHOOD \n",
      "\n",
      "Topic 1:\n",
      " APARTMENT, CLEAN, HOST, SUBWAY, EASY, WALK, CLOSE, COMFORTABLE, SPACE, NEIGHBORHOOD \n",
      "\n",
      "Topic 2:\n",
      " COMFORTABLE, CLEAN, HOST, APARTMENT, EASY, SUBWAY, CLOSE, NEIGHBORHOOD, SPACE, HOME \n",
      "\n",
      "Topic 3:\n",
      " APARTMENT, CLEAN, HOST, SUBWAY, CLOSE, EASY, COMFORTABLE, NEIGHBORHOOD, WALK, SPACE \n",
      "\n",
      "Topic 4:\n",
      " HOST, APARTMENT, CLEAN, CLOSE, SUBWAY, SPACE, WALK, COMFORTABLE, BED, EASY \n",
      "\n",
      "Topic 5:\n",
      " WALK, SUBWAY, CLEAN, EASY, HOST, CLOSE, COMFORTABLE, APARTMENT, NEIGHBORHOOD, HOME \n",
      "\n",
      "Topic 6:\n",
      " SPACE, EASY, WALK, COMFORTABLE, SUBWAY, APARTMENT, NEIGHBORHOOD, HOST, BED, CLEAN \n",
      "\n",
      "Topic 7:\n",
      " EASY, CLEAN, HOST, APARTMENT, SUBWAY, WALK, COMFORTABLE, CLOSE, SPACE, NEIGHBORHOOD \n",
      "\n",
      "Topic 8:\n",
      " HOST, APARTMENT, CLEAN, CLOSE, SUBWAY, WALK, BED, NEIGHBORHOOD, EASY, COMFORTABLE \n",
      "\n",
      "Topic 9:\n",
      " CLEAN, HOST, APARTMENT, SUBWAY, WALK, CLOSE, BED, EASY, NEIGHBORHOOD, COMFORTABLE \n",
      "\n",
      "Topic 10:\n",
      " NEIGHBORHOOD, HOST, CLEAN, APARTMENT, WALK, COMFORTABLE, HOME, SUBWAY, EASY, CLOSE \n",
      "\n",
      "Topic 11:\n",
      " BED, COMFORTABLE, CLEAN, APARTMENT, HOST, SUBWAY, WALK, EASY, CLOSE, SPACE \n",
      "\n",
      "Topic 12:\n",
      " HOME, HOST, CLEAN, APARTMENT, COMFORTABLE, SUBWAY, CLOSE, WALK, EASY, SPACE \n",
      "\n",
      "Topic 13:\n",
      " CLOSE, SUBWAY, HOST, CLEAN, APARTMENT, EASY, COMFORTABLE, NEIGHBORHOOD, HOME, SPACE \n",
      "\n",
      "Topic 14:\n",
      " NEIGHBORHOOD, APARTMENT, EASY, CLOSE, SUBWAY, HOST, COMFORTABLE, CLEAN, HOME, WALK \n",
      "\n",
      "Topic 15:\n",
      " WALK, SUBWAY, APARTMENT, HOST, CLEAN, EASY, RESTAURANT, COMFORTABLE, CLOSE, NEIGHBORHOOD \n",
      "\n",
      "Topic 16:\n",
      " SPACE, COMFORTABLE, CLOSE, SUBWAY, WALK, HOME, EASY, HOST, APARTMENT, CLEAN \n",
      "\n",
      "Topic 17:\n",
      " CLOSE, CLEAN, HOST, APARTMENT, NEIGHBORHOOD, SUBWAY, COMFORTABLE, EASY, WALK, HOME \n",
      "\n",
      "Topic 18:\n",
      " RESTAURANT, APARTMENT, SUBWAY, CLOSE, WALK, CLEAN, HOST, EASY, NEIGHBORHOOD, COMFORTABLE \n",
      "\n",
      "Topic 19:\n",
      " SUBWAY, APARTMENT, HOST, CLEAN, NEIGHBORHOOD, CLOSE, EASY, COMFORTABLE, HOME, WALK \n",
      "\n"
     ]
    }
   ],
   "source": [
    "preprocessor = None\n",
    "vectorizer2 = TfidfVectorizer(stop_words=custom_stopwords,min_df = 0.1, max_df = 0.8)  # Single change to add in common English stop words.\n",
    "topic_modeler6 = LatentDirichletAllocation(n_components=20, random_state=10)\n",
    "\n",
    "make_topics(docs, preprocessor, vectorizer2, topic_modeler6);"
   ]
  },
  {
   "cell_type": "code",
   "execution_count": 303,
   "id": "b11a9733",
   "metadata": {},
   "outputs": [
    {
     "name": "stdout",
     "output_type": "stream",
     "text": [
      "Topic 0:\n",
      " SPACE, CLEAN, COMFORTABLE, HOST, WALK, APARTMENT, BED, HOME, EASY, SUBWAY \n",
      "\n",
      "Topic 1:\n",
      " APARTMENT, CLEAN, HOST, WALK, SUBWAY, COMFORTABLE, EASY, CLOSE, BED, HOME \n",
      "\n",
      "Topic 2:\n",
      " COMFORTABLE, BED, CLEAN, APARTMENT, HOST, WALK, SUBWAY, EASY, HOME, CLOSE \n",
      "\n",
      "Topic 3:\n",
      " RESTAURANT, APARTMENT, SUBWAY, WALK, CLOSE, HOST, CLEAN, COMFORTABLE, HOME, EASY \n",
      "\n",
      "Topic 4:\n",
      " HOST, CLEAN, APARTMENT, WALK, COMFORTABLE, HOME, EASY, SUBWAY, BED, NEIGHBORHOOD \n",
      "\n",
      "Topic 5:\n",
      " SUBWAY, CLOSE, WALK, CLEAN, HOST, APARTMENT, COMFORTABLE, EASY, BED, HOME \n",
      "\n",
      "Topic 6:\n",
      " NEIGHBORHOOD, WALK, APARTMENT, HOST, SUBWAY, CLEAN, COMFORTABLE, HOME, CLOSE, EASY \n",
      "\n",
      "Topic 7:\n",
      " EASY, WALK, CLEAN, HOST, SUBWAY, APARTMENT, COMFORTABLE, HOME, RESTAURANT, CLOSE \n",
      "\n",
      "Topic 8:\n",
      " CLOSE, HOST, CLEAN, SUBWAY, APARTMENT, HOME, WALK, COMFORTABLE, EASY, BED \n",
      "\n",
      "Topic 9:\n",
      " CLEAN, HOME, HOST, COMFORTABLE, WALK, APARTMENT, SUBWAY, CLOSE, EASY, BED \n",
      "\n"
     ]
    }
   ],
   "source": [
    "preprocessor = None\n",
    "vectorizer2 = TfidfVectorizer(stop_words=custom_stopwords,min_df = 0.1, max_df = 0.8)  # Single change to add in common English stop words.\n",
    "topic_modeler7 = LatentDirichletAllocation(n_components=10, random_state=10)\n",
    "\n",
    "make_topics(docs, preprocessor, vectorizer2, topic_modeler7,10);"
   ]
  },
  {
   "cell_type": "code",
   "execution_count": 222,
   "id": "6e6859a0",
   "metadata": {},
   "outputs": [
    {
     "name": "stdout",
     "output_type": "stream",
     "text": [
      "Topic 0:\n",
      " SPACE, BED, COMFORTABLE, CLEAN, WALK, HOST, HOME, NEIGHBORHOOD, APARTMENT, RESTAURANT \n",
      "\n",
      "Topic 1:\n",
      " APARTMENT, CLEAN, WALK, HOST, EASY, RESTAURANT, NEIGHBORHOOD, SUBWAY, CLOSE, COMFORTABLE \n",
      "\n",
      "Topic 2:\n",
      " EASY, COMFORTABLE, CLOSE, CLEAN, SUBWAY, BED, WALK, APARTMENT, NEIGHBORHOOD, HOST \n",
      "\n",
      "Topic 3:\n",
      " SUBWAY, HOME, WALK, RESTAURANT, CLOSE, CLEAN, APARTMENT, HOST, COMFORTABLE, NEIGHBORHOOD \n",
      "\n",
      "Topic 4:\n",
      " HOST, NEIGHBORHOOD, CLEAN, WALK, SUBWAY, EASY, COMFORTABLE, CLOSE, APARTMENT, HOME \n",
      "\n"
     ]
    }
   ],
   "source": [
    "preprocessor = None\n",
    "vectorizer2 = TfidfVectorizer(stop_words=custom_stopwords,min_df = 0.1, max_df = 0.8)  \n",
    "topic_modeler8 = LatentDirichletAllocation(n_components=5,random_state=10)\n",
    "\n",
    "make_topics(docs, preprocessor, vectorizer2, topic_modeler8);"
   ]
  },
  {
   "cell_type": "code",
   "execution_count": 223,
   "id": "f6b164ea",
   "metadata": {},
   "outputs": [
    {
     "data": {
      "text/plain": [
       "LatentDirichletAllocation(random_state=0)"
      ]
     },
     "execution_count": 223,
     "metadata": {},
     "output_type": "execute_result"
    }
   ],
   "source": [
    "# for TFIDF DTM\n",
    "dtm_tfidf = vectorizer2.fit_transform(docs)\n",
    "\n",
    "\n",
    "lda_tfidf = LatentDirichletAllocation(n_components=10, random_state=0)\n",
    "lda_tfidf.fit(dtm_tfidf)"
   ]
  },
  {
   "cell_type": "code",
   "execution_count": 213,
   "id": "85711f84",
   "metadata": {},
   "outputs": [],
   "source": [
    "import pyLDAvis\n",
    "import pyLDAvis.sklearn\n",
    "pyLDAvis.enable_notebook()\n"
   ]
  },
  {
   "cell_type": "code",
   "execution_count": 316,
   "id": "24c64eec",
   "metadata": {},
   "outputs": [
    {
     "data": {
      "text/html": [
       "\n",
       "<link rel=\"stylesheet\" type=\"text/css\" href=\"https://cdn.jsdelivr.net/gh/bmabey/pyLDAvis@3.3.1/pyLDAvis/js/ldavis.v1.0.0.css\">\n",
       "\n",
       "\n",
       "<div id=\"ldavis_el2532012806045436805469139025\"></div>\n",
       "<script type=\"text/javascript\">\n",
       "\n",
       "var ldavis_el2532012806045436805469139025_data = {\"mdsDat\": {\"x\": [0.1008391876821696, -0.39568526885212696, -0.24992636936077073, 0.0641068714290732, 0.06810226053021921, 0.10077839136383329, 0.018135617499598834, 0.07489191085258923, 0.010355854055101199, 0.20840154480031275], \"y\": [-0.12857137081177067, 0.12650985947623658, 0.01143497427707278, -0.182828137229727, -0.1200300643421368, 0.22366091122184203, -0.1792796855264002, -0.012859190552587713, -0.0649176396201848, 0.3268803431076561], \"topics\": [1, 2, 3, 4, 5, 6, 7, 8, 9, 10], \"cluster\": [1, 1, 1, 1, 1, 1, 1, 1, 1, 1], \"Freq\": [14.196239055200838, 11.655602026325749, 10.5809068100635, 10.310782160621637, 9.85939690295919, 9.639859232433164, 9.082442802581069, 8.611568414563617, 8.334948317767555, 7.72825427748369]}, \"tinfo\": {\"Term\": [\"comfortable\", \"easy\", \"neighborhood\", \"host\", \"bed\", \"home\", \"walk\", \"restaurant\", \"clean\", \"space\", \"close\", \"apartment\", \"subway\", \"close\", \"apartment\", \"subway\", \"host\", \"clean\", \"restaurant\", \"bed\", \"home\", \"space\", \"neighborhood\", \"walk\", \"easy\", \"comfortable\", \"home\", \"space\", \"host\", \"clean\", \"close\", \"apartment\", \"subway\", \"comfortable\", \"restaurant\", \"bed\", \"neighborhood\", \"walk\", \"easy\", \"host\", \"clean\", \"restaurant\", \"bed\", \"home\", \"space\", \"neighborhood\", \"walk\", \"close\", \"subway\", \"easy\", \"comfortable\", \"apartment\", \"walk\", \"subway\", \"apartment\", \"clean\", \"host\", \"easy\", \"close\", \"comfortable\", \"restaurant\", \"bed\", \"home\", \"space\", \"neighborhood\", \"restaurant\", \"close\", \"walk\", \"subway\", \"apartment\", \"host\", \"clean\", \"space\", \"comfortable\", \"easy\", \"home\", \"bed\", \"neighborhood\", \"bed\", \"comfortable\", \"apartment\", \"clean\", \"host\", \"space\", \"subway\", \"close\", \"easy\", \"walk\", \"restaurant\", \"home\", \"neighborhood\", \"easy\", \"subway\", \"clean\", \"close\", \"host\", \"apartment\", \"restaurant\", \"bed\", \"home\", \"space\", \"neighborhood\", \"walk\", \"comfortable\", \"clean\", \"apartment\", \"restaurant\", \"bed\", \"home\", \"space\", \"neighborhood\", \"walk\", \"close\", \"subway\", \"easy\", \"comfortable\", \"host\", \"neighborhood\", \"apartment\", \"clean\", \"subway\", \"host\", \"close\", \"easy\", \"restaurant\", \"space\", \"comfortable\", \"bed\", \"home\", \"walk\", \"comfortable\", \"apartment\", \"clean\", \"home\", \"host\", \"restaurant\", \"bed\", \"space\", \"neighborhood\", \"walk\", \"close\", \"subway\", \"easy\"], \"Freq\": [4868.0, 3950.0, 3192.0, 7155.0, 2720.0, 2773.0, 3213.0, 2544.0, 7647.0, 2925.0, 3368.0, 6353.0, 3718.0, 2608.0891416418212, 3166.1666841826727, 1004.8963259297037, 470.061844855865, 477.39457373563465, 0.08534764400956633, 0.08524452594281752, 0.08524748655520303, 0.0852470269195753, 0.08524496595512362, 0.08524614613113338, 0.08524750268980034, 0.08565102793866056, 2769.556488825973, 2755.1435197517476, 672.8011668050707, 144.35975900971525, 0.8780901936395283, 0.681641634357463, 0.3125646015518586, 0.18141939994132852, 0.09154214957205886, 0.0915423470208975, 0.09154318383887612, 0.09154525207538848, 0.09171321815088088, 4909.318652429446, 849.1068075581951, 0.08812734749390648, 0.08812749366031783, 0.08812796736220384, 0.0881280929465971, 0.08812742696202439, 0.08812783642608045, 0.08812891359308601, 0.08812910510514936, 0.08812841279830338, 0.08812905344798257, 0.08813338187835183, 2712.081956427561, 1642.7767140298008, 532.0306945468855, 388.25902121983484, 285.2925794718388, 28.02667130968053, 19.677697107083198, 3.708477086634055, 0.10138356213605872, 0.10138294305859417, 0.10138765466745148, 0.101387263251463, 0.10138349565235971, 2543.0936199141947, 578.5751963977652, 499.9830463568722, 450.2128943846964, 512.8368148142566, 280.77422865282165, 275.11266588167416, 76.01146871921378, 117.33986335389275, 30.24405675904864, 2.26489263846013, 0.10713136514354507, 0.10701771490110128, 2719.995345367721, 1084.1858432395272, 452.004818301836, 495.4650596806616, 259.880571351112, 93.93571451799247, 113.73529550363904, 25.565828925257655, 1.7526118661277892, 0.3164486409300053, 0.10849581725323372, 0.10850126746030961, 0.10970728266775578, 3888.486943831134, 340.2375763432106, 538.703120694185, 131.49404184317905, 25.766375334817457, 18.32094804872557, 0.10584709843423268, 0.10584678081540691, 0.10584971733637082, 0.10585216282461707, 0.10584750649806393, 0.1058497424000521, 0.10745913623432886, 3896.773856530026, 789.551457888366, 0.10182487998698447, 0.10182478145188048, 0.10182659714994126, 0.10182759609876567, 0.101824448962617, 0.10182555994300442, 0.1018261377133164, 0.10182621733638782, 0.10182591024910481, 0.101826838542888, 0.10183021075412457, 3191.4446290301744, 524.6750960446204, 397.5255569913041, 165.65504337658467, 250.99925949661977, 3.861371890916908, 1.434797354169338, 0.5422239255351634, 0.15143435023315524, 0.2172468835793828, 0.11827468089193977, 0.11828229826265371, 0.13244912049726185, 3662.66960395651, 357.1696017027111, 184.51542932311767, 0.5432792287719922, 0.7569440621262008, 0.12316656506196569, 0.12316532203607544, 0.12317111236689321, 0.12316747673480002, 0.12316877937387047, 0.12317127853872645, 0.12317406718167437, 0.12317025466459916], \"Total\": [4868.0, 3950.0, 3192.0, 7155.0, 2720.0, 2773.0, 3213.0, 2544.0, 7647.0, 2925.0, 3368.0, 6353.0, 3718.0, 3368.454494329508, 6353.52589054631, 3718.13954355881, 7155.753452670472, 7647.2158506243495, 2544.4415789036784, 2720.917885607742, 2773.0738836819987, 2925.8477505935953, 3192.358492532347, 3213.1096638622103, 3950.4351664187134, 4868.6855199762485, 2773.0738836819987, 2925.8477505935953, 7155.753452670472, 7647.2158506243495, 3368.454494329508, 6353.52589054631, 3718.13954355881, 4868.6855199762485, 2544.4415789036784, 2720.917885607742, 3192.358492532347, 3213.1096638622103, 3950.4351664187134, 7155.753452670472, 7647.2158506243495, 2544.4415789036784, 2720.917885607742, 2773.0738836819987, 2925.8477505935953, 3192.358492532347, 3213.1096638622103, 3368.454494329508, 3718.13954355881, 3950.4351664187134, 4868.6855199762485, 6353.52589054631, 3213.1096638622103, 3718.13954355881, 6353.52589054631, 7647.2158506243495, 7155.753452670472, 3950.4351664187134, 3368.454494329508, 4868.6855199762485, 2544.4415789036784, 2720.917885607742, 2773.0738836819987, 2925.8477505935953, 3192.358492532347, 2544.4415789036784, 3368.454494329508, 3213.1096638622103, 3718.13954355881, 6353.52589054631, 7155.753452670472, 7647.2158506243495, 2925.8477505935953, 4868.6855199762485, 3950.4351664187134, 2773.0738836819987, 2720.917885607742, 3192.358492532347, 2720.917885607742, 4868.6855199762485, 6353.52589054631, 7647.2158506243495, 7155.753452670472, 2925.8477505935953, 3718.13954355881, 3368.454494329508, 3950.4351664187134, 3213.1096638622103, 2544.4415789036784, 2773.0738836819987, 3192.358492532347, 3950.4351664187134, 3718.13954355881, 7647.2158506243495, 3368.454494329508, 7155.753452670472, 6353.52589054631, 2544.4415789036784, 2720.917885607742, 2773.0738836819987, 2925.8477505935953, 3192.358492532347, 3213.1096638622103, 4868.6855199762485, 7647.2158506243495, 6353.52589054631, 2544.4415789036784, 2720.917885607742, 2773.0738836819987, 2925.8477505935953, 3192.358492532347, 3213.1096638622103, 3368.454494329508, 3718.13954355881, 3950.4351664187134, 4868.6855199762485, 7155.753452670472, 3192.358492532347, 6353.52589054631, 7647.2158506243495, 3718.13954355881, 7155.753452670472, 3368.454494329508, 3950.4351664187134, 2544.4415789036784, 2925.8477505935953, 4868.6855199762485, 2720.917885607742, 2773.0738836819987, 3213.1096638622103, 4868.6855199762485, 6353.52589054631, 7647.2158506243495, 2773.0738836819987, 7155.753452670472, 2544.4415789036784, 2720.917885607742, 2925.8477505935953, 3192.358492532347, 3213.1096638622103, 3368.454494329508, 3718.13954355881, 3950.4351664187134], \"Category\": [\"Default\", \"Default\", \"Default\", \"Default\", \"Default\", \"Default\", \"Default\", \"Default\", \"Default\", \"Default\", \"Default\", \"Default\", \"Default\", \"Topic1\", \"Topic1\", \"Topic1\", \"Topic1\", \"Topic1\", \"Topic1\", \"Topic1\", \"Topic1\", \"Topic1\", \"Topic1\", \"Topic1\", \"Topic1\", \"Topic1\", \"Topic2\", \"Topic2\", \"Topic2\", \"Topic2\", \"Topic2\", \"Topic2\", \"Topic2\", \"Topic2\", \"Topic2\", \"Topic2\", \"Topic2\", \"Topic2\", \"Topic2\", \"Topic3\", \"Topic3\", \"Topic3\", \"Topic3\", \"Topic3\", \"Topic3\", \"Topic3\", \"Topic3\", \"Topic3\", \"Topic3\", \"Topic3\", \"Topic3\", \"Topic3\", \"Topic4\", \"Topic4\", \"Topic4\", \"Topic4\", \"Topic4\", \"Topic4\", \"Topic4\", \"Topic4\", \"Topic4\", \"Topic4\", \"Topic4\", \"Topic4\", \"Topic4\", \"Topic5\", \"Topic5\", \"Topic5\", \"Topic5\", \"Topic5\", \"Topic5\", \"Topic5\", \"Topic5\", \"Topic5\", \"Topic5\", \"Topic5\", \"Topic5\", \"Topic5\", \"Topic6\", \"Topic6\", \"Topic6\", \"Topic6\", \"Topic6\", \"Topic6\", \"Topic6\", \"Topic6\", \"Topic6\", \"Topic6\", \"Topic6\", \"Topic6\", \"Topic6\", \"Topic7\", \"Topic7\", \"Topic7\", \"Topic7\", \"Topic7\", \"Topic7\", \"Topic7\", \"Topic7\", \"Topic7\", \"Topic7\", \"Topic7\", \"Topic7\", \"Topic7\", \"Topic8\", \"Topic8\", \"Topic8\", \"Topic8\", \"Topic8\", \"Topic8\", \"Topic8\", \"Topic8\", \"Topic8\", \"Topic8\", \"Topic8\", \"Topic8\", \"Topic8\", \"Topic9\", \"Topic9\", \"Topic9\", \"Topic9\", \"Topic9\", \"Topic9\", \"Topic9\", \"Topic9\", \"Topic9\", \"Topic9\", \"Topic9\", \"Topic9\", \"Topic9\", \"Topic10\", \"Topic10\", \"Topic10\", \"Topic10\", \"Topic10\", \"Topic10\", \"Topic10\", \"Topic10\", \"Topic10\", \"Topic10\", \"Topic10\", \"Topic10\", \"Topic10\"], \"logprob\": [13.0, 12.0, 11.0, 10.0, 9.0, 8.0, 7.0, 6.0, 5.0, 4.0, 3.0, 2.0, 1.0, -1.0861, -0.8922, -2.0399, -2.7996, -2.7842, -11.4135, -11.4147, -11.4147, -11.4147, -11.4147, -11.4147, -11.4147, -11.41, -0.8289, -0.8341, -2.2439, -3.783, -8.8853, -9.1386, -9.9183, -10.4623, -11.1463, -11.1463, -11.1463, -11.1462, -11.1444, -0.1597, -1.9144, -11.0876, -11.0876, -11.0876, -11.0876, -11.0876, -11.0876, -11.0875, -11.0875, -11.0875, -11.0875, -11.0875, -0.7273, -1.2286, -2.356, -2.6711, -2.9792, -5.2996, -5.6532, -7.3221, -10.9216, -10.9216, -10.9215, -10.9215, -10.9216, -0.7468, -2.2274, -2.3734, -2.4782, -2.348, -2.9504, -2.9708, -4.2571, -3.8229, -5.1787, -7.7704, -10.8217, -10.8227, -0.6571, -1.5769, -2.4518, -2.3599, -3.0052, -4.0228, -3.8316, -5.3242, -8.0043, -9.716, -10.7865, -10.7864, -10.7754, -0.2401, -2.6762, -2.2167, -3.6269, -5.2568, -5.5978, -10.7516, -10.7516, -10.7516, -10.7516, -10.7516, -10.7516, -10.7365, -0.1847, -1.7812, -10.7371, -10.7371, -10.7371, -10.7371, -10.7371, -10.7371, -10.7371, -10.7371, -10.7371, -10.7371, -10.7371, -0.3518, -2.1572, -2.4347, -3.3101, -2.8945, -7.069, -8.059, -9.0321, -10.3076, -9.9467, -10.5547, -10.5547, -10.4416, -0.1385, -2.4662, -3.1267, -8.9546, -8.6229, -10.4386, -10.4386, -10.4386, -10.4386, -10.4386, -10.4386, -10.4386, -10.4386], \"loglift\": [13.0, 12.0, 11.0, 10.0, 9.0, 8.0, 7.0, 6.0, 5.0, 4.0, 3.0, 2.0, 1.0, 1.6964, 1.2557, 0.6439, -0.7706, -0.8216, -8.3505, -8.4188, -8.4377, -8.4913, -8.5785, -8.585, -8.7916, -8.9959, 2.1481, 2.0893, -0.2148, -1.8204, -6.1028, -6.9906, -7.2345, -8.0481, -8.0832, -8.1503, -8.3101, -8.3165, -8.5213, 1.8693, 0.0482, -8.0245, -8.0916, -8.1106, -8.1642, -8.2514, -8.2578, -8.305, -8.4038, -8.4644, -8.6734, -8.9396, 2.1025, 1.4551, -0.2081, -0.7084, -0.9502, -2.6764, -2.8707, -4.908, -7.8585, -7.9256, -7.9445, -7.9982, -8.0854, 2.3162, 0.5551, 0.4563, 0.2055, -0.2001, -0.9214, -1.0082, -1.3337, -1.4088, -2.5555, -4.7934, -7.8257, -7.9865, 2.3389, 0.8373, -0.3038, -0.3973, -0.9762, -1.0995, -1.1478, -2.5417, -5.3812, -6.8863, -7.7234, -7.8094, -7.9392, 2.383, 0.0075, -0.2541, -0.8444, -3.2278, -3.4499, -7.6886, -7.7557, -7.7746, -7.8282, -7.9154, -7.9219, -8.3224, 1.7779, 0.3668, -7.6741, -7.7412, -7.7601, -7.8137, -7.901, -7.9074, -7.9546, -8.0534, -8.114, -8.323, -8.7081, 2.4844, -0.0093, -0.4721, -0.6264, -0.8655, -4.2865, -5.4358, -5.969, -7.3842, -7.5326, -7.5588, -7.5777, -7.6118, 2.2757, -0.3183, -1.1641, -5.9776, -6.5939, -7.3756, -7.4427, -7.5152, -7.6024, -7.6089, -7.6561, -7.7548, -7.8155]}, \"token.table\": {\"Topic\": [1, 2, 4, 5, 6, 7, 8, 9, 10, 6, 1, 2, 3, 4, 5, 6, 7, 8, 9, 10, 1, 2, 4, 5, 6, 7, 9, 4, 5, 6, 10, 4, 5, 6, 7, 9, 2, 5, 10, 1, 2, 3, 4, 5, 6, 7, 9, 10, 9, 5, 9, 2, 5, 6, 1, 4, 5, 6, 7, 9, 4, 5], \"Freq\": [0.4983059886024594, 0.00015739292122629798, 0.08373303409239052, 0.08074256858909086, 0.07114160039428669, 0.0028330725820733633, 0.1243404077687754, 0.08263128364380644, 0.056189272877788375, 0.9996626558954251, 0.06237564223599832, 0.018830382561810813, 0.11102079718734292, 0.050737419680434694, 0.03596080003123593, 0.06472944005622468, 0.07048316806122241, 0.5095972280790051, 0.052045085136116, 0.024191810930104172, 0.77424231331916, 0.00029687205265305217, 0.005937441053061043, 0.1718889184861172, 0.007718673368979356, 0.038890238897549834, 0.0011874882106122087, 0.0008215769910765388, 0.02403112698898876, 0.222647364581742, 0.7523591295783404, 0.007087826738182756, 0.007594100076624381, 0.0005062733384416254, 0.9841953699305197, 0.0002531366692208127, 0.9988915247804658, 0.0007212213175310223, 0.00036061065876551114, 0.06568141330031425, 0.09405019393853509, 0.6860213997686014, 0.03982809104380758, 0.03926910029231554, 0.036334398846982356, 0.0036334398846982353, 0.03507666965612527, 0.00013974768787300906, 0.9995744548942341, 0.9994334399674841, 0.0003930135430465923, 0.9416074364912072, 0.02597537755837813, 0.03212744066430979, 0.2702964717236154, 0.4418876647183085, 0.1210282709210218, 0.03066049529999219, 0.09144358247366091, 0.04464598438419915, 0.8440421534633, 0.15561249142022493], \"Term\": [\"apartment\", \"apartment\", \"apartment\", \"apartment\", \"apartment\", \"apartment\", \"apartment\", \"apartment\", \"apartment\", \"bed\", \"clean\", \"clean\", \"clean\", \"clean\", \"clean\", \"clean\", \"clean\", \"clean\", \"clean\", \"clean\", \"close\", \"close\", \"close\", \"close\", \"close\", \"close\", \"close\", \"comfortable\", \"comfortable\", \"comfortable\", \"comfortable\", \"easy\", \"easy\", \"easy\", \"easy\", \"easy\", \"home\", \"home\", \"home\", \"host\", \"host\", \"host\", \"host\", \"host\", \"host\", \"host\", \"host\", \"host\", \"neighborhood\", \"restaurant\", \"restaurant\", \"space\", \"space\", \"space\", \"subway\", \"subway\", \"subway\", \"subway\", \"subway\", \"subway\", \"walk\", \"walk\"]}, \"R\": 13, \"lambda.step\": 0.01, \"plot.opts\": {\"xlab\": \"PC1\", \"ylab\": \"PC2\"}, \"topic.order\": [8, 9, 10, 3, 4, 2, 7, 1, 5, 6]};\n",
       "\n",
       "function LDAvis_load_lib(url, callback){\n",
       "  var s = document.createElement('script');\n",
       "  s.src = url;\n",
       "  s.async = true;\n",
       "  s.onreadystatechange = s.onload = callback;\n",
       "  s.onerror = function(){console.warn(\"failed to load library \" + url);};\n",
       "  document.getElementsByTagName(\"head\")[0].appendChild(s);\n",
       "}\n",
       "\n",
       "if(typeof(LDAvis) !== \"undefined\"){\n",
       "   // already loaded: just create the visualization\n",
       "   !function(LDAvis){\n",
       "       new LDAvis(\"#\" + \"ldavis_el2532012806045436805469139025\", ldavis_el2532012806045436805469139025_data);\n",
       "   }(LDAvis);\n",
       "}else if(typeof define === \"function\" && define.amd){\n",
       "   // require.js is available: use it to load d3/LDAvis\n",
       "   require.config({paths: {d3: \"https://d3js.org/d3.v5\"}});\n",
       "   require([\"d3\"], function(d3){\n",
       "      window.d3 = d3;\n",
       "      LDAvis_load_lib(\"https://cdn.jsdelivr.net/gh/bmabey/pyLDAvis@3.3.1/pyLDAvis/js/ldavis.v3.0.0.js\", function(){\n",
       "        new LDAvis(\"#\" + \"ldavis_el2532012806045436805469139025\", ldavis_el2532012806045436805469139025_data);\n",
       "      });\n",
       "    });\n",
       "}else{\n",
       "    // require.js not available: dynamically load d3 & LDAvis\n",
       "    LDAvis_load_lib(\"https://d3js.org/d3.v5.js\", function(){\n",
       "         LDAvis_load_lib(\"https://cdn.jsdelivr.net/gh/bmabey/pyLDAvis@3.3.1/pyLDAvis/js/ldavis.v3.0.0.js\", function(){\n",
       "                 new LDAvis(\"#\" + \"ldavis_el2532012806045436805469139025\", ldavis_el2532012806045436805469139025_data);\n",
       "            })\n",
       "         });\n",
       "}\n",
       "</script>"
      ],
      "text/plain": [
       "PreparedData(topic_coordinates=              x         y  topics  cluster       Freq\n",
       "topic                                                \n",
       "7      0.100839 -0.128571       1        1  14.196239\n",
       "8     -0.395685  0.126510       2        1  11.655602\n",
       "9     -0.249926  0.011435       3        1  10.580907\n",
       "2      0.064107 -0.182828       4        1  10.310782\n",
       "3      0.068102 -0.120030       5        1   9.859397\n",
       "1      0.100778  0.223661       6        1   9.639859\n",
       "6      0.018136 -0.179280       7        1   9.082443\n",
       "0      0.074892 -0.012859       8        1   8.611568\n",
       "4      0.010356 -0.064918       9        1   8.334948\n",
       "5      0.208402  0.326880      10        1   7.728254, topic_info=            Term         Freq        Total Category  logprob  loglift\n",
       "4    comfortable  4868.000000  4868.000000  Default  13.0000  13.0000\n",
       "5           easy  3950.000000  3950.000000  Default  12.0000  12.0000\n",
       "8   neighborhood  3192.000000  3192.000000  Default  11.0000  11.0000\n",
       "7           host  7155.000000  7155.000000  Default  10.0000  10.0000\n",
       "1            bed  2720.000000  2720.000000  Default   9.0000   9.0000\n",
       "..           ...          ...          ...      ...      ...      ...\n",
       "8   neighborhood     0.123167  3192.358493  Topic10 -10.4386  -7.6024\n",
       "12          walk     0.123169  3213.109664  Topic10 -10.4386  -7.6089\n",
       "3          close     0.123171  3368.454494  Topic10 -10.4386  -7.6561\n",
       "11        subway     0.123174  3718.139544  Topic10 -10.4386  -7.7548\n",
       "5           easy     0.123170  3950.435166  Topic10 -10.4386  -7.8155\n",
       "\n",
       "[143 rows x 6 columns], token_table=      Topic      Freq       Term\n",
       "term                            \n",
       "0         1  0.498306  apartment\n",
       "0         2  0.000157  apartment\n",
       "0         4  0.083733  apartment\n",
       "0         5  0.080743  apartment\n",
       "0         6  0.071142  apartment\n",
       "...     ...       ...        ...\n",
       "11        6  0.030660     subway\n",
       "11        7  0.091444     subway\n",
       "11        9  0.044646     subway\n",
       "12        4  0.844042       walk\n",
       "12        5  0.155612       walk\n",
       "\n",
       "[62 rows x 3 columns], R=13, lambda_step=0.01, plot_opts={'xlab': 'PC1', 'ylab': 'PC2'}, topic_order=[8, 9, 10, 3, 4, 2, 7, 1, 5, 6])"
      ]
     },
     "execution_count": 316,
     "metadata": {},
     "output_type": "execute_result"
    }
   ],
   "source": [
    "#p= \n",
    "pyLDAvis.sklearn.prepare(lda_tfidf, dtm_tfidf, vectorizer2)\n",
    "#pyLDAvis.save_html(p, 'lda.html')"
   ]
  },
  {
   "cell_type": "code",
   "execution_count": 298,
   "id": "25ca5070",
   "metadata": {},
   "outputs": [],
   "source": [
    "from gensim.models.coherencemodel import CoherenceModel\n",
    "from gensim.models.ldamodel import LdaModel\n",
    "from gensim.corpora.dictionary import Dictionary"
   ]
  },
  {
   "cell_type": "code",
   "execution_count": 315,
   "id": "6f060b6b",
   "metadata": {},
   "outputs": [],
   "source": [
    "# Create a dictionary\n",
    "dictionary = Dictionary(docs_clean)\n",
    "dictionary.filter_extremes(no_below=3, no_above=0.8)\n",
    "#Create dictionary and corpus required for Topic Modeling\n",
    "corpus = [dictionary.doc2bow(text) for text in docs_clean]\n"
   ]
  },
  {
   "cell_type": "code",
   "execution_count": 301,
   "id": "ede8c063",
   "metadata": {},
   "outputs": [],
   "source": [
    "def compute_coherence_values(dictionary, corpus, texts, limit, start=2, step=3):\n",
    "    \"\"\"\n",
    "    Compute c_v coherence for various number of topics\n",
    "\n",
    "    Parameters:\n",
    "    ----------\n",
    "    dictionary : Gensim dictionary\n",
    "    corpus : Gensim corpus\n",
    "    texts : List of input texts\n",
    "    limit : Max num of topics\n",
    "\n",
    "    Returns:\n",
    "    -------\n",
    "    model_list : List of LDA topic models\n",
    "    coherence_values : Coherence values corresponding to the LDA model with respective number of topics\n",
    "    \"\"\"\n",
    "    coherence_values = []\n",
    "    model_list = []\n",
    "    for num_topics in range(start, limit, step):\n",
    "        model=LdaModel(corpus=corpus, id2word=id2word, num_topics=num_topics)\n",
    "        model_list.append(model)\n",
    "        coherencemodel = CoherenceModel(model=model, texts=texts, dictionary=dictionary, coherence='c_v')\n",
    "        coherence_values.append(coherencemodel.get_coherence())\n",
    "\n",
    "    return model_list, coherence_values"
   ]
  },
  {
   "cell_type": "code",
   "execution_count": 302,
   "id": "c0e9b538",
   "metadata": {},
   "outputs": [
    {
     "data": {
      "image/png": "[encoded data removed]",
      "text/plain": [
       "<Figure size 432x288 with 1 Axes>"
      ]
     },
     "metadata": {
      "needs_background": "light"
     },
     "output_type": "display_data"
    }
   ],
   "source": [
    "model_list, coherence_values = compute_coherence_values(dictionary=dictionary, corpus=corpus, texts=docs_clean, \n",
    "                                                        start=2, limit=40, step=6)\n",
    "\n",
    "limit=40; start=2; step=6;\n",
    "x = range(start, limit, step)\n",
    "plt.plot(x, coherence_values)\n",
    "plt.xlabel(\"Num Topics\")\n",
    "plt.ylabel(\"Coherence score\")\n",
    "plt.legend((\"coherence_values\"), loc='best')\n",
    "plt.show()"
   ]
  },
  {
   "cell_type": "markdown",
   "id": "c62f1c62",
   "metadata": {},
   "source": [
    "# Sentiment Analysis to detect negative and positive reviews"
   ]
  },
  {
   "cell_type": "markdown",
   "id": "502596b4",
   "metadata": {},
   "source": [
    "Sentiment analysis is the process of identifying people's emotional states from text data. In this project, it will help to classify negative and positive reviews.\n",
    "\n"
   ]
  },
  {
   "cell_type": "code",
   "execution_count": 257,
   "id": "de4b30fc",
   "metadata": {},
   "outputs": [
    {
     "name": "stdout",
     "output_type": "stream",
     "text": [
      "Hyas place was awesome!  She was very helpful and informative upon arrival.  She showed us around the place and gave us tips for things to do and places to eat around the neighborhood.  The place was quiet and big.  Plenty bang for your buck.  She even offered a ride to the train station upon check it to make sure we caught our flight on time.  Hya was amazing and I’d book with her again for sure!\n",
      "compound: 0.9449, neg: 0.0, neu: 0.812, pos: 0.188, \n",
      "Sharon is super nice. the whole stay was great! We were group of six, having late night conversations. there was no problem, if we needed anything, we texted and got reply right away. The location is perfect, subway, cafe and little shop right across the street. We loved it. The place was super clean. \n",
      "compound: 0.9698, neg: 0.065, neu: 0.598, pos: 0.336, \n"
     ]
    }
   ],
   "source": [
    "from nltk.sentiment.vader import SentimentIntensityAnalyzer\n",
    "\n",
    "sid = SentimentIntensityAnalyzer()\n",
    "for sentence in df['comments'].values[1:3]:\n",
    "    print(sentence)\n",
    "    ss = sid.polarity_scores(sentence)\n",
    "    for k in sorted(ss):\n",
    "        print('{0}: {1}, '.format(k, ss[k]), end='')\n",
    "    print()"
   ]
  },
  {
   "cell_type": "markdown",
   "id": "6d1953d3",
   "metadata": {},
   "source": [
    "From VaderSentiment :\n",
    "\n",
    "The compound score is computed by summing the valence scores of each word in the lexicon, adjusted according to the rules, and then normalized to be between -1 (most extreme negative) and +1 (most extreme positive). This is the most useful metric if you want a single unidimensional measure of sentiment for a given sentence. Calling it a 'normalized, weighted composite score' is accurate.\n",
    "\n",
    "It is also useful for researchers who would like to set standardized thresholds for classifying sentences as either positive, neutral, or negative. Typical threshold values (used in the literature cited on this page) are:\n",
    "\n",
    "positive sentiment: compound score >= 0.05\n",
    "\n",
    "neutral sentiment: (compound score > -0.05) and (compound score < 0.05)\n",
    "\\\n",
    "negative sentiment: compound score <= -0.05"
   ]
  },
  {
   "cell_type": "code",
   "execution_count": 258,
   "id": "2555a401",
   "metadata": {},
   "outputs": [],
   "source": [
    "pscores = [sid.polarity_scores(comment) for comment in df['comments']]"
   ]
  },
  {
   "cell_type": "code",
   "execution_count": 263,
   "id": "a4516084",
   "metadata": {},
   "outputs": [
    {
     "data": {
      "image/png": "[encoded data removed]",
      "text/plain": [
       "<Figure size 864x720 with 4 Axes>"
      ]
     },
     "metadata": {
      "needs_background": "light"
     },
     "output_type": "display_data"
    }
   ],
   "source": [
    "plt.subplots(figsize=(12,10))\n",
    "\n",
    "plt.subplot(2, 2, 1)\n",
    "pd.Series([score['compound'] for score in pscores]).plot(kind='hist')\n",
    "\n",
    "plt.title('Compound Scores')\n",
    "plt.xlabel('Scores')\n",
    "plt.ylabel('frequency')\n",
    "\n",
    "plt.subplot(2, 2, 2)\n",
    "#Histogram plot neutral\n",
    "pd.Series([score['neu'] for score in pscores]).plot(kind='hist')\n",
    "\n",
    "plt.title('Neutral Scores')\n",
    "plt.xlabel('Scores')\n",
    "plt.ylabel('frequency')\n",
    "\n",
    "plt.subplot(2, 2, 3)\n",
    "\n",
    "#Histogram plot positive\n",
    "pd.Series([score['pos'] for score in pscores]).plot(kind='hist')\n",
    "\n",
    "plt.title('Positive Scores')\n",
    "plt.xlabel('Scores')\n",
    "plt.ylabel('frequency')\n",
    "\n",
    "plt.subplot(2, 2, 4)\n",
    "pd.Series([score['neg'] for score in pscores]).plot(kind='hist', bins=100)\n",
    "\n",
    "plt.title('Negative Scores')\n",
    "plt.xlabel('Scores')\n",
    "plt.ylabel('frequency')\n",
    "\n",
    "\n",
    "plt.savefig('sentiment.png',dpi =150)\n",
    "\n",
    "#the negative scores were mostly close to zero. Most guest had pleasant experiences during their Airbnb stays."
   ]
  },
  {
   "cell_type": "code",
   "execution_count": 271,
   "id": "1d093189",
   "metadata": {},
   "outputs": [],
   "source": [
    "#Create dataframe for sentiment analysis\n",
    "scored_reviews = pd.DataFrame()\n",
    "scored_reviews['comments'] = df.comments\n",
    "scored_reviews['comments_lmn'] = df.comments_lmn\n",
    "scored_reviews['compound'] = [score['compound'] for score in pscores]\n",
    "scored_reviews['negativity'] = [score['neg'] for score in pscores]\n",
    "scored_reviews['neutrality'] = [score['neu'] for score in pscores]\n",
    "scored_reviews['positivity'] = [score['pos'] for score in pscores]"
   ]
  },
  {
   "cell_type": "code",
   "execution_count": 272,
   "id": "dbdf0d73",
   "metadata": {},
   "outputs": [
    {
     "data": {
      "text/html": [
       "<div>\n",
       "<style scoped>\n",
       "    .dataframe tbody tr th:only-of-type {\n",
       "        vertical-align: middle;\n",
       "    }\n",
       "\n",
       "    .dataframe tbody tr th {\n",
       "        vertical-align: top;\n",
       "    }\n",
       "\n",
       "    .dataframe thead th {\n",
       "        text-align: right;\n",
       "    }\n",
       "</style>\n",
       "<table border=\"1\" class=\"dataframe\">\n",
       "  <thead>\n",
       "    <tr style=\"text-align: right;\">\n",
       "      <th></th>\n",
       "      <th>comments</th>\n",
       "      <th>comments_lmn</th>\n",
       "      <th>compound</th>\n",
       "      <th>negativity</th>\n",
       "      <th>neutrality</th>\n",
       "      <th>positivity</th>\n",
       "    </tr>\n",
       "  </thead>\n",
       "  <tbody>\n",
       "    <tr>\n",
       "      <th>690518</th>\n",
       "      <td>Lakshmee was amazing ! Very nice for one night...</td>\n",
       "      <td>lakshmee be amaze very nice for one night she ...</td>\n",
       "      <td>0.9310</td>\n",
       "      <td>0.000</td>\n",
       "      <td>0.636</td>\n",
       "      <td>0.364</td>\n",
       "    </tr>\n",
       "    <tr>\n",
       "      <th>620226</th>\n",
       "      <td>Hyas place was awesome!  She was very helpful ...</td>\n",
       "      <td>hyas place be awesome she be very helpful and ...</td>\n",
       "      <td>0.9449</td>\n",
       "      <td>0.000</td>\n",
       "      <td>0.812</td>\n",
       "      <td>0.188</td>\n",
       "    </tr>\n",
       "    <tr>\n",
       "      <th>560286</th>\n",
       "      <td>Sharon is super nice. the whole stay was great...</td>\n",
       "      <td>sharon be super nice the whole stay be great w...</td>\n",
       "      <td>0.9698</td>\n",
       "      <td>0.065</td>\n",
       "      <td>0.598</td>\n",
       "      <td>0.336</td>\n",
       "    </tr>\n",
       "    <tr>\n",
       "      <th>795187</th>\n",
       "      <td>Nice apt, nice bathroom, nice mattress, but ve...</td>\n",
       "      <td>nice apt nice bathroom nice mattress but very ...</td>\n",
       "      <td>0.8466</td>\n",
       "      <td>0.067</td>\n",
       "      <td>0.592</td>\n",
       "      <td>0.341</td>\n",
       "    </tr>\n",
       "    <tr>\n",
       "      <th>846818</th>\n",
       "      <td>This was our first Airbnb rental. The place is...</td>\n",
       "      <td>this be our first airbnb rental the place be e...</td>\n",
       "      <td>0.9402</td>\n",
       "      <td>0.033</td>\n",
       "      <td>0.775</td>\n",
       "      <td>0.192</td>\n",
       "    </tr>\n",
       "  </tbody>\n",
       "</table>\n",
       "</div>"
      ],
      "text/plain": [
       "                                                 comments  \\\n",
       "690518  Lakshmee was amazing ! Very nice for one night...   \n",
       "620226  Hyas place was awesome!  She was very helpful ...   \n",
       "560286  Sharon is super nice. the whole stay was great...   \n",
       "795187  Nice apt, nice bathroom, nice mattress, but ve...   \n",
       "846818  This was our first Airbnb rental. The place is...   \n",
       "\n",
       "                                             comments_lmn  compound  \\\n",
       "690518  lakshmee be amaze very nice for one night she ...    0.9310   \n",
       "620226  hyas place be awesome she be very helpful and ...    0.9449   \n",
       "560286  sharon be super nice the whole stay be great w...    0.9698   \n",
       "795187  nice apt nice bathroom nice mattress but very ...    0.8466   \n",
       "846818  this be our first airbnb rental the place be e...    0.9402   \n",
       "\n",
       "        negativity  neutrality  positivity  \n",
       "690518       0.000       0.636       0.364  \n",
       "620226       0.000       0.812       0.188  \n",
       "560286       0.065       0.598       0.336  \n",
       "795187       0.067       0.592       0.341  \n",
       "846818       0.033       0.775       0.192  "
      ]
     },
     "execution_count": 272,
     "metadata": {},
     "output_type": "execute_result"
    }
   ],
   "source": [
    "scored_reviews.head()"
   ]
  },
  {
   "cell_type": "code",
   "execution_count": 273,
   "id": "7de95e73",
   "metadata": {},
   "outputs": [
    {
     "data": {
      "text/html": [
       "<div>\n",
       "<style scoped>\n",
       "    .dataframe tbody tr th:only-of-type {\n",
       "        vertical-align: middle;\n",
       "    }\n",
       "\n",
       "    .dataframe tbody tr th {\n",
       "        vertical-align: top;\n",
       "    }\n",
       "\n",
       "    .dataframe thead th {\n",
       "        text-align: right;\n",
       "    }\n",
       "</style>\n",
       "<table border=\"1\" class=\"dataframe\">\n",
       "  <thead>\n",
       "    <tr style=\"text-align: right;\">\n",
       "      <th></th>\n",
       "      <th>comments</th>\n",
       "      <th>comments_lmn</th>\n",
       "      <th>compound</th>\n",
       "      <th>negativity</th>\n",
       "      <th>neutrality</th>\n",
       "      <th>positivity</th>\n",
       "    </tr>\n",
       "  </thead>\n",
       "  <tbody>\n",
       "    <tr>\n",
       "      <th>389535</th>\n",
       "      <td>Place was as described. Everything was okay an...</td>\n",
       "      <td>place be a described everything be okay and ba...</td>\n",
       "      <td>-0.3708</td>\n",
       "      <td>0.096</td>\n",
       "      <td>0.869</td>\n",
       "      <td>0.035</td>\n",
       "    </tr>\n",
       "    <tr>\n",
       "      <th>847869</th>\n",
       "      <td>This stay was a disaster. The apartment was ve...</td>\n",
       "      <td>this stay be a disaster the apartment be very ...</td>\n",
       "      <td>-0.6757</td>\n",
       "      <td>0.128</td>\n",
       "      <td>0.819</td>\n",
       "      <td>0.053</td>\n",
       "    </tr>\n",
       "    <tr>\n",
       "      <th>729377</th>\n",
       "      <td>No fridge, no proper A/C, $100/night deposit, ...</td>\n",
       "      <td>no fridge no proper a c night deposit and no v...</td>\n",
       "      <td>-0.4404</td>\n",
       "      <td>0.251</td>\n",
       "      <td>0.646</td>\n",
       "      <td>0.103</td>\n",
       "    </tr>\n",
       "    <tr>\n",
       "      <th>487828</th>\n",
       "      <td>Clean, but no frills. Bathroom needs some cosm...</td>\n",
       "      <td>clean but no frill bathroom need some cosmetic...</td>\n",
       "      <td>-0.2382</td>\n",
       "      <td>0.168</td>\n",
       "      <td>0.721</td>\n",
       "      <td>0.111</td>\n",
       "    </tr>\n",
       "    <tr>\n",
       "      <th>798842</th>\n",
       "      <td>WRONG ROOM THEIR IS NO EMPIRE STATE BUILDING V...</td>\n",
       "      <td>wrong room their be no empire state building v...</td>\n",
       "      <td>-0.6900</td>\n",
       "      <td>0.255</td>\n",
       "      <td>0.670</td>\n",
       "      <td>0.075</td>\n",
       "    </tr>\n",
       "    <tr>\n",
       "      <th>...</th>\n",
       "      <td>...</td>\n",
       "      <td>...</td>\n",
       "      <td>...</td>\n",
       "      <td>...</td>\n",
       "      <td>...</td>\n",
       "      <td>...</td>\n",
       "    </tr>\n",
       "    <tr>\n",
       "      <th>537051</th>\n",
       "      <td>Bathroom was freezing. Shower walls had hair f...</td>\n",
       "      <td>bathroom be freeze shower wall have hair from ...</td>\n",
       "      <td>-0.8968</td>\n",
       "      <td>0.214</td>\n",
       "      <td>0.715</td>\n",
       "      <td>0.071</td>\n",
       "    </tr>\n",
       "    <tr>\n",
       "      <th>779920</th>\n",
       "      <td>Omg where do I start?! I stayed here for 2 wee...</td>\n",
       "      <td>omg where do i start i stay here for week and ...</td>\n",
       "      <td>-0.9717</td>\n",
       "      <td>0.137</td>\n",
       "      <td>0.808</td>\n",
       "      <td>0.055</td>\n",
       "    </tr>\n",
       "    <tr>\n",
       "      <th>504057</th>\n",
       "      <td>there was a big noise at early morning from ve...</td>\n",
       "      <td>there be a big noise at early morning from ven...</td>\n",
       "      <td>-0.0956</td>\n",
       "      <td>0.142</td>\n",
       "      <td>0.765</td>\n",
       "      <td>0.094</td>\n",
       "    </tr>\n",
       "    <tr>\n",
       "      <th>111459</th>\n",
       "      <td>Unfortunately, we didn't get the room we have ...</td>\n",
       "      <td>unfortunately we didn t get the room we have b...</td>\n",
       "      <td>-0.0790</td>\n",
       "      <td>0.090</td>\n",
       "      <td>0.826</td>\n",
       "      <td>0.084</td>\n",
       "    </tr>\n",
       "    <tr>\n",
       "      <th>278645</th>\n",
       "      <td>Erin’s space was a lovely place to come home t...</td>\n",
       "      <td>erin s space be a lovely place to come home to...</td>\n",
       "      <td>-0.2621</td>\n",
       "      <td>0.084</td>\n",
       "      <td>0.849</td>\n",
       "      <td>0.067</td>\n",
       "    </tr>\n",
       "  </tbody>\n",
       "</table>\n",
       "<p>792 rows × 6 columns</p>\n",
       "</div>"
      ],
      "text/plain": [
       "                                                 comments  \\\n",
       "389535  Place was as described. Everything was okay an...   \n",
       "847869  This stay was a disaster. The apartment was ve...   \n",
       "729377  No fridge, no proper A/C, $100/night deposit, ...   \n",
       "487828  Clean, but no frills. Bathroom needs some cosm...   \n",
       "798842  WRONG ROOM THEIR IS NO EMPIRE STATE BUILDING V...   \n",
       "...                                                   ...   \n",
       "537051  Bathroom was freezing. Shower walls had hair f...   \n",
       "779920  Omg where do I start?! I stayed here for 2 wee...   \n",
       "504057  there was a big noise at early morning from ve...   \n",
       "111459  Unfortunately, we didn't get the room we have ...   \n",
       "278645  Erin’s space was a lovely place to come home t...   \n",
       "\n",
       "                                             comments_lmn  compound  \\\n",
       "389535  place be a described everything be okay and ba...   -0.3708   \n",
       "847869  this stay be a disaster the apartment be very ...   -0.6757   \n",
       "729377  no fridge no proper a c night deposit and no v...   -0.4404   \n",
       "487828  clean but no frill bathroom need some cosmetic...   -0.2382   \n",
       "798842  wrong room their be no empire state building v...   -0.6900   \n",
       "...                                                   ...       ...   \n",
       "537051  bathroom be freeze shower wall have hair from ...   -0.8968   \n",
       "779920  omg where do i start i stay here for week and ...   -0.9717   \n",
       "504057  there be a big noise at early morning from ven...   -0.0956   \n",
       "111459  unfortunately we didn t get the room we have b...   -0.0790   \n",
       "278645  erin s space be a lovely place to come home to...   -0.2621   \n",
       "\n",
       "        negativity  neutrality  positivity  \n",
       "389535       0.096       0.869       0.035  \n",
       "847869       0.128       0.819       0.053  \n",
       "729377       0.251       0.646       0.103  \n",
       "487828       0.168       0.721       0.111  \n",
       "798842       0.255       0.670       0.075  \n",
       "...            ...         ...         ...  \n",
       "537051       0.214       0.715       0.071  \n",
       "779920       0.137       0.808       0.055  \n",
       "504057       0.142       0.765       0.094  \n",
       "111459       0.090       0.826       0.084  \n",
       "278645       0.084       0.849       0.067  \n",
       "\n",
       "[792 rows x 6 columns]"
      ]
     },
     "execution_count": 273,
     "metadata": {},
     "output_type": "execute_result"
    }
   ],
   "source": [
    "scored_reviews.query('negativity > positivity')"
   ]
  },
  {
   "cell_type": "code",
   "execution_count": 274,
   "id": "fd2a532f",
   "metadata": {},
   "outputs": [],
   "source": [
    "neg_reviews = scored_reviews.query('negativity > positivity')"
   ]
  },
  {
   "cell_type": "code",
   "execution_count": 317,
   "id": "799f1358",
   "metadata": {},
   "outputs": [
    {
     "data": {
      "text/plain": [
       "(792, 6)"
      ]
     },
     "execution_count": 317,
     "metadata": {},
     "output_type": "execute_result"
    }
   ],
   "source": [
    "neg_reviews.shape"
   ]
  },
  {
   "cell_type": "code",
   "execution_count": 278,
   "id": "a3fda314",
   "metadata": {},
   "outputs": [
    {
     "name": "stderr",
     "output_type": "stream",
     "text": [
      "C:\\Users\\12157\\anaconda3\\envs\\metis\\lib\\site-packages\\sklearn\\decomposition\\_nmf.py:312: FutureWarning: The 'init' value, when 'init=None' and n_components is less than n_samples and n_features, will be changed from 'nndsvd' to 'nndsvda' in 1.1 (renaming of 0.26).\n",
      "  warnings.warn((\"The 'init' value, when 'init=None' and \"\n"
     ]
    },
    {
     "name": "stdout",
     "output_type": "stream",
     "text": [
      "Topic 0:\n",
      " COMPLAINT, LITERALLY COMPLAINT, LONG COMPLAINT, COMPLAINT PARK, LITERALLY, LONG, PARK, FANTASTIC, CLOSE METRO COMPLAINT, METRO COMPLAINT \n",
      "\n",
      "Topic 1:\n",
      " APARTMENT, CLEAN, BATHROOM, BEDROOM, SMALL, FLOOR, PICTURE, WATER, HOUSE, EXPECT \n",
      "\n",
      "Topic 2:\n",
      " BAD, WASN BAD, BAD THING, WASN, BAD THING PARKING, THING PARKING, BED BAD, BAD EXPERIENCE, THING, BAD HOTEL \n",
      "\n",
      "Topic 3:\n",
      " BLOCK, SUBWAY, NEIGHBORHOOD, WALK, CLOSE, PARK, QUIET, SQUARE, CLOSE SUBWAY, BEST \n",
      "\n",
      "Topic 4:\n",
      " HOST, LEAVE, BOOK, SAY, WANT, GUEST, TELL, CANCEL, KEY, ASK \n",
      "\n",
      "Topic 5:\n",
      " PAY, PRICE, DECENT PAY, DECENT, FEE, HOTEL, PRICE PAY, PAY HOTEL FEE, PAY HOTEL, HOTEL FEE \n",
      "\n",
      "Topic 6:\n",
      " PROBLEM, PROBLEM PARK, RENT PROBLEM, PARK, RENT, REPEAT HESITATION, PROBLEM REPEAT, PROBLEM REPEAT HESITATION, HESITATION, REPEAT \n",
      "\n",
      "Topic 7:\n",
      " HIGHLY, DON HIGHLY, STEAL HIGHLY, STEAL, DON, DON WANT, WANT, PPL, DRYER, GREGORY \n",
      "\n",
      "Topic 8:\n",
      " HORRIBLE, BED, BED HORRIBLE, INSANITARY, HORRIBLE INSANITARY, UNCOMFORTABLE, WAKE BED, WOULDN WAKE BED, BED WOULDN, BED WOULDN WAKE \n",
      "\n",
      "Topic 9:\n",
      " DIRTY, BATHROOM, DIRTY SAY, DIFFERENT DIRTY, BATHROOM DIRTY, DIFFERENT, KITCHEN, SAY, FLAT, DIRTY RESPONSE QUICK \n",
      "\n"
     ]
    }
   ],
   "source": [
    "make_topics(neg_reviews.comments_lmn, None, TfidfVectorizer(stop_words=custom_stopwords,ngram_range=(1,3), max_df = 0.8), NMF(10, random_state=10));"
   ]
  }
 ],
 "metadata": {
  "kernelspec": {
   "display_name": "Python [conda env:metis] *",
   "language": "python",
   "name": "conda-env-metis-py"
  },
  "language_info": {
   "codemirror_mode": {
    "name": "ipython",
    "version": 3
   },
   "file_extension": ".py",
   "mimetype": "text/x-python",
   "name": "python",
   "nbconvert_exporter": "python",
   "pygments_lexer": "ipython3",
   "version": "3.8.11"
  }
 },
 "nbformat": 4,
 "nbformat_minor": 5
}
